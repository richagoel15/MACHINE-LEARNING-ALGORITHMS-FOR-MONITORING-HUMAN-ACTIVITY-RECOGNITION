{
 "cells": [
  {
   "cell_type": "markdown",
   "metadata": {},
   "source": [
    " ## COMPARISON BETWEEN ALGORITHM\n",
    "\n"
   ]
  },
  {
   "cell_type": "code",
   "execution_count": 35,
   "metadata": {},
   "outputs": [],
   "source": [
    "### import all the required Library\n",
    "\n",
    "import pandas as pd\n",
    "import numpy as np\n",
    "import glob\n",
    "from sklearn.preprocessing import Normalizer\n",
    "from sklearn.linear_model import LogisticRegression\n",
    "from sklearn.model_selection import train_test_split,GridSearchCV\n",
    "from sklearn.metrics import accuracy_score\n",
    "from sklearn.neighbors import KNeighborsClassifier\n",
    "from sklearn.ensemble import RandomForestClassifier\n",
    "from sklearn.model_selection import StratifiedKFold\n",
    "from sklearn.linear_model import LinearRegression\n",
    "from sklearn.metrics import accuracy_score, confusion_matrix\n",
    "from sklearn.utils.multiclass import unique_labels\n",
    "import matplotlib.pyplot as plt\n",
    "import seaborn as sns\n",
    "from sklearn import metrics\n",
    "from sklearn.svm import SVC\n",
    "from sklearn.model_selection import KFold  \n",
    "import matplotlib.pyplot as plt\n",
    "from sklearn.model_selection import train_test_split\n",
    "from sklearn.model_selection import StratifiedKFold\n",
    "from sklearn.linear_model import LinearRegression\n",
    "from sklearn.metrics import accuracy_score, confusion_matrix\n",
    "from sklearn.utils.multiclass import unique_labels\n",
    "from sklearn.metrics import classification_report\n",
    "from sklearn import metrics\n",
    "from sklearn.ensemble import GradientBoostingClassifier\n",
    "from sklearn.neighbors import KNeighborsClassifier \n",
    "\n",
    "\n",
    "#from tensorflow.python.keras.models import Sequential\n",
    "#from tensorflow.python.keras.layers import Dense\n",
    "#from tensorflow.python.keras.wrappers.scikit_learn import KerasRegressor\n",
    "\n",
    "# Supress Warnings\n",
    "import warnings\n",
    "warnings.filterwarnings('ignore')\n",
    "\n",
    "from IPython.core.interactiveshell import InteractiveShell\n",
    "InteractiveShell.ast_node_interactivity = \"all\"\n",
    "%matplotlib inline\n",
    "\n",
    "pd.set_option(\"display.max_columns\", 300)\n",
    "pd.set_option(\"display.max_rows\", 300)\n",
    "\n",
    "# For visualization\n",
    "import matplotlib.pyplot as plt\n",
    "import seaborn as sns\n",
    "%matplotlib inline"
   ]
  },
  {
   "cell_type": "code",
   "execution_count": 36,
   "metadata": {},
   "outputs": [],
   "source": [
    "#find all files in the S1_Dataset. Note:- remove the readme file.\n",
    "\n",
    "df_data= pd.read_csv(\"Sensor_Performance_data.csv\",index_col=None)\n"
   ]
  },
  {
   "cell_type": "code",
   "execution_count": 37,
   "metadata": {},
   "outputs": [
    {
     "data": {
      "text/html": [
       "<div>\n",
       "<style scoped>\n",
       "    .dataframe tbody tr th:only-of-type {\n",
       "        vertical-align: middle;\n",
       "    }\n",
       "\n",
       "    .dataframe tbody tr th {\n",
       "        vertical-align: top;\n",
       "    }\n",
       "\n",
       "    .dataframe thead th {\n",
       "        text-align: right;\n",
       "    }\n",
       "</style>\n",
       "<table border=\"1\" class=\"dataframe\">\n",
       "  <thead>\n",
       "    <tr style=\"text-align: right;\">\n",
       "      <th></th>\n",
       "      <th>Perfomance Matrix</th>\n",
       "      <th>Sit On Bed</th>\n",
       "      <th>Sit on Chair</th>\n",
       "      <th>Lying</th>\n",
       "      <th>Ambulating</th>\n",
       "      <th>micro avg</th>\n",
       "      <th>macro avg</th>\n",
       "      <th>weighted avg</th>\n",
       "      <th>Model1</th>\n",
       "      <th>Data Type</th>\n",
       "    </tr>\n",
       "  </thead>\n",
       "  <tbody>\n",
       "    <tr>\n",
       "      <th>0</th>\n",
       "      <td>f1-score</td>\n",
       "      <td>0.85</td>\n",
       "      <td>0.44</td>\n",
       "      <td>1.00</td>\n",
       "      <td>0.52</td>\n",
       "      <td>0.93</td>\n",
       "      <td>0.70</td>\n",
       "      <td>0.92</td>\n",
       "      <td>Logistics Regression</td>\n",
       "      <td>Wearable Sensor Data</td>\n",
       "    </tr>\n",
       "    <tr>\n",
       "      <th>1</th>\n",
       "      <td>precision</td>\n",
       "      <td>0.78</td>\n",
       "      <td>0.72</td>\n",
       "      <td>0.99</td>\n",
       "      <td>0.94</td>\n",
       "      <td>0.93</td>\n",
       "      <td>0.86</td>\n",
       "      <td>0.93</td>\n",
       "      <td>Logistics Regression</td>\n",
       "      <td>Wearable Sensor Data</td>\n",
       "    </tr>\n",
       "    <tr>\n",
       "      <th>2</th>\n",
       "      <td>recall</td>\n",
       "      <td>0.95</td>\n",
       "      <td>0.32</td>\n",
       "      <td>1.00</td>\n",
       "      <td>0.36</td>\n",
       "      <td>0.93</td>\n",
       "      <td>0.66</td>\n",
       "      <td>0.93</td>\n",
       "      <td>Logistics Regression</td>\n",
       "      <td>Wearable Sensor Data</td>\n",
       "    </tr>\n",
       "    <tr>\n",
       "      <th>3</th>\n",
       "      <td>support</td>\n",
       "      <td>5010.00</td>\n",
       "      <td>1402.00</td>\n",
       "      <td>15426.00</td>\n",
       "      <td>701.00</td>\n",
       "      <td>22539.00</td>\n",
       "      <td>22539.00</td>\n",
       "      <td>22539.00</td>\n",
       "      <td>Logistics Regression</td>\n",
       "      <td>Wearable Sensor Data</td>\n",
       "    </tr>\n",
       "    <tr>\n",
       "      <th>4</th>\n",
       "      <td>Training Accuracy</td>\n",
       "      <td>NaN</td>\n",
       "      <td>NaN</td>\n",
       "      <td>NaN</td>\n",
       "      <td>NaN</td>\n",
       "      <td>NaN</td>\n",
       "      <td>0.92</td>\n",
       "      <td>NaN</td>\n",
       "      <td>Logistics Regression</td>\n",
       "      <td>Wearable Sensor Data</td>\n",
       "    </tr>\n",
       "    <tr>\n",
       "      <th>5</th>\n",
       "      <td>Test Accuracy</td>\n",
       "      <td>NaN</td>\n",
       "      <td>NaN</td>\n",
       "      <td>NaN</td>\n",
       "      <td>NaN</td>\n",
       "      <td>NaN</td>\n",
       "      <td>0.93</td>\n",
       "      <td>NaN</td>\n",
       "      <td>Logistics Regression</td>\n",
       "      <td>Wearable Sensor Data</td>\n",
       "    </tr>\n",
       "    <tr>\n",
       "      <th>6</th>\n",
       "      <td>Model_Time</td>\n",
       "      <td>NaN</td>\n",
       "      <td>NaN</td>\n",
       "      <td>NaN</td>\n",
       "      <td>NaN</td>\n",
       "      <td>NaN</td>\n",
       "      <td>82.63</td>\n",
       "      <td>NaN</td>\n",
       "      <td>Logistics Regression</td>\n",
       "      <td>Wearable Sensor Data</td>\n",
       "    </tr>\n",
       "    <tr>\n",
       "      <th>7</th>\n",
       "      <td>Specificity</td>\n",
       "      <td>0.92</td>\n",
       "      <td>0.99</td>\n",
       "      <td>0.98</td>\n",
       "      <td>1.00</td>\n",
       "      <td>NaN</td>\n",
       "      <td>NaN</td>\n",
       "      <td>NaN</td>\n",
       "      <td>Logistics Regression</td>\n",
       "      <td>Wearable Sensor Data</td>\n",
       "    </tr>\n",
       "    <tr>\n",
       "      <th>8</th>\n",
       "      <td>Negative predictive value</td>\n",
       "      <td>0.98</td>\n",
       "      <td>0.96</td>\n",
       "      <td>1.00</td>\n",
       "      <td>0.98</td>\n",
       "      <td>NaN</td>\n",
       "      <td>NaN</td>\n",
       "      <td>NaN</td>\n",
       "      <td>Logistics Regression</td>\n",
       "      <td>Wearable Sensor Data</td>\n",
       "    </tr>\n",
       "    <tr>\n",
       "      <th>9</th>\n",
       "      <td>Positive Likelihood Ratio</td>\n",
       "      <td>12.23</td>\n",
       "      <td>38.64</td>\n",
       "      <td>58.76</td>\n",
       "      <td>521.29</td>\n",
       "      <td>NaN</td>\n",
       "      <td>NaN</td>\n",
       "      <td>NaN</td>\n",
       "      <td>Logistics Regression</td>\n",
       "      <td>Wearable Sensor Data</td>\n",
       "    </tr>\n",
       "    <tr>\n",
       "      <th>10</th>\n",
       "      <td>Negative likelihood ratio</td>\n",
       "      <td>17.98</td>\n",
       "      <td>1.45</td>\n",
       "      <td>2166.23</td>\n",
       "      <td>1.56</td>\n",
       "      <td>NaN</td>\n",
       "      <td>NaN</td>\n",
       "      <td>NaN</td>\n",
       "      <td>Logistics Regression</td>\n",
       "      <td>Wearable Sensor Data</td>\n",
       "    </tr>\n",
       "    <tr>\n",
       "      <th>11</th>\n",
       "      <td>Overall Misclassification Ratio</td>\n",
       "      <td>0.07</td>\n",
       "      <td>0.05</td>\n",
       "      <td>0.01</td>\n",
       "      <td>0.02</td>\n",
       "      <td>NaN</td>\n",
       "      <td>NaN</td>\n",
       "      <td>NaN</td>\n",
       "      <td>Logistics Regression</td>\n",
       "      <td>Wearable Sensor Data</td>\n",
       "    </tr>\n",
       "    <tr>\n",
       "      <th>12</th>\n",
       "      <td>ROC curve_Avergae</td>\n",
       "      <td>NaN</td>\n",
       "      <td>NaN</td>\n",
       "      <td>NaN</td>\n",
       "      <td>NaN</td>\n",
       "      <td>NaN</td>\n",
       "      <td>0.96</td>\n",
       "      <td>NaN</td>\n",
       "      <td>Logistics Regression</td>\n",
       "      <td>Wearable Sensor Data</td>\n",
       "    </tr>\n",
       "    <tr>\n",
       "      <th>13</th>\n",
       "      <td>f1-score</td>\n",
       "      <td>0.99</td>\n",
       "      <td>0.98</td>\n",
       "      <td>1.00</td>\n",
       "      <td>0.88</td>\n",
       "      <td>0.99</td>\n",
       "      <td>0.96</td>\n",
       "      <td>0.99</td>\n",
       "      <td>Random Forest</td>\n",
       "      <td>Wearable Sensor Data</td>\n",
       "    </tr>\n",
       "    <tr>\n",
       "      <th>14</th>\n",
       "      <td>precision</td>\n",
       "      <td>0.98</td>\n",
       "      <td>0.97</td>\n",
       "      <td>1.00</td>\n",
       "      <td>0.95</td>\n",
       "      <td>0.99</td>\n",
       "      <td>0.98</td>\n",
       "      <td>0.99</td>\n",
       "      <td>Random Forest</td>\n",
       "      <td>Wearable Sensor Data</td>\n",
       "    </tr>\n",
       "    <tr>\n",
       "      <th>15</th>\n",
       "      <td>recall</td>\n",
       "      <td>0.99</td>\n",
       "      <td>0.99</td>\n",
       "      <td>1.00</td>\n",
       "      <td>0.82</td>\n",
       "      <td>0.99</td>\n",
       "      <td>0.95</td>\n",
       "      <td>0.99</td>\n",
       "      <td>Random Forest</td>\n",
       "      <td>Wearable Sensor Data</td>\n",
       "    </tr>\n",
       "    <tr>\n",
       "      <th>16</th>\n",
       "      <td>support</td>\n",
       "      <td>5010.00</td>\n",
       "      <td>1402.00</td>\n",
       "      <td>15426.00</td>\n",
       "      <td>701.00</td>\n",
       "      <td>22539.00</td>\n",
       "      <td>22539.00</td>\n",
       "      <td>22539.00</td>\n",
       "      <td>Random Forest</td>\n",
       "      <td>Wearable Sensor Data</td>\n",
       "    </tr>\n",
       "    <tr>\n",
       "      <th>17</th>\n",
       "      <td>Training Accuracy</td>\n",
       "      <td>NaN</td>\n",
       "      <td>NaN</td>\n",
       "      <td>NaN</td>\n",
       "      <td>NaN</td>\n",
       "      <td>NaN</td>\n",
       "      <td>1.00</td>\n",
       "      <td>NaN</td>\n",
       "      <td>Random Forest</td>\n",
       "      <td>Wearable Sensor Data</td>\n",
       "    </tr>\n",
       "    <tr>\n",
       "      <th>18</th>\n",
       "      <td>Test Accuracy</td>\n",
       "      <td>NaN</td>\n",
       "      <td>NaN</td>\n",
       "      <td>NaN</td>\n",
       "      <td>NaN</td>\n",
       "      <td>NaN</td>\n",
       "      <td>0.99</td>\n",
       "      <td>NaN</td>\n",
       "      <td>Random Forest</td>\n",
       "      <td>Wearable Sensor Data</td>\n",
       "    </tr>\n",
       "    <tr>\n",
       "      <th>19</th>\n",
       "      <td>Model_Time</td>\n",
       "      <td>NaN</td>\n",
       "      <td>NaN</td>\n",
       "      <td>NaN</td>\n",
       "      <td>NaN</td>\n",
       "      <td>NaN</td>\n",
       "      <td>2.27</td>\n",
       "      <td>NaN</td>\n",
       "      <td>Random Forest</td>\n",
       "      <td>Wearable Sensor Data</td>\n",
       "    </tr>\n",
       "    <tr>\n",
       "      <th>20</th>\n",
       "      <td>Specificity</td>\n",
       "      <td>0.99</td>\n",
       "      <td>1.00</td>\n",
       "      <td>1.00</td>\n",
       "      <td>1.00</td>\n",
       "      <td>NaN</td>\n",
       "      <td>NaN</td>\n",
       "      <td>NaN</td>\n",
       "      <td>Random Forest</td>\n",
       "      <td>Wearable Sensor Data</td>\n",
       "    </tr>\n",
       "    <tr>\n",
       "      <th>21</th>\n",
       "      <td>Negative predictive value</td>\n",
       "      <td>1.00</td>\n",
       "      <td>1.00</td>\n",
       "      <td>1.00</td>\n",
       "      <td>0.99</td>\n",
       "      <td>NaN</td>\n",
       "      <td>NaN</td>\n",
       "      <td>NaN</td>\n",
       "      <td>Random Forest</td>\n",
       "      <td>Wearable Sensor Data</td>\n",
       "    </tr>\n",
       "    <tr>\n",
       "      <th>22</th>\n",
       "      <td>Positive Likelihood Ratio</td>\n",
       "      <td>162.42</td>\n",
       "      <td>582.53</td>\n",
       "      <td>308.92</td>\n",
       "      <td>643.08</td>\n",
       "      <td>NaN</td>\n",
       "      <td>NaN</td>\n",
       "      <td>NaN</td>\n",
       "      <td>Random Forest</td>\n",
       "      <td>Wearable Sensor Data</td>\n",
       "    </tr>\n",
       "    <tr>\n",
       "      <th>23</th>\n",
       "      <td>Negative likelihood ratio</td>\n",
       "      <td>115.80</td>\n",
       "      <td>127.24</td>\n",
       "      <td>904.48</td>\n",
       "      <td>5.69</td>\n",
       "      <td>NaN</td>\n",
       "      <td>NaN</td>\n",
       "      <td>NaN</td>\n",
       "      <td>Random Forest</td>\n",
       "      <td>Wearable Sensor Data</td>\n",
       "    </tr>\n",
       "    <tr>\n",
       "      <th>24</th>\n",
       "      <td>Overall Misclassification Ratio</td>\n",
       "      <td>0.01</td>\n",
       "      <td>0.00</td>\n",
       "      <td>0.00</td>\n",
       "      <td>0.01</td>\n",
       "      <td>NaN</td>\n",
       "      <td>NaN</td>\n",
       "      <td>NaN</td>\n",
       "      <td>Random Forest</td>\n",
       "      <td>Wearable Sensor Data</td>\n",
       "    </tr>\n",
       "    <tr>\n",
       "      <th>25</th>\n",
       "      <td>ROC curve_Avergae</td>\n",
       "      <td>NaN</td>\n",
       "      <td>NaN</td>\n",
       "      <td>NaN</td>\n",
       "      <td>NaN</td>\n",
       "      <td>NaN</td>\n",
       "      <td>1.00</td>\n",
       "      <td>NaN</td>\n",
       "      <td>Random Forest</td>\n",
       "      <td>Wearable Sensor Data</td>\n",
       "    </tr>\n",
       "    <tr>\n",
       "      <th>26</th>\n",
       "      <td>f1-score</td>\n",
       "      <td>0.85</td>\n",
       "      <td>0.44</td>\n",
       "      <td>0.99</td>\n",
       "      <td>0.46</td>\n",
       "      <td>0.92</td>\n",
       "      <td>0.69</td>\n",
       "      <td>0.91</td>\n",
       "      <td>DNN Classifier</td>\n",
       "      <td>Wearable Sensor Data</td>\n",
       "    </tr>\n",
       "    <tr>\n",
       "      <th>27</th>\n",
       "      <td>precision</td>\n",
       "      <td>0.76</td>\n",
       "      <td>0.84</td>\n",
       "      <td>0.99</td>\n",
       "      <td>0.59</td>\n",
       "      <td>0.92</td>\n",
       "      <td>0.80</td>\n",
       "      <td>0.92</td>\n",
       "      <td>DNN Classifier</td>\n",
       "      <td>Wearable Sensor Data</td>\n",
       "    </tr>\n",
       "    <tr>\n",
       "      <th>28</th>\n",
       "      <td>recall</td>\n",
       "      <td>0.96</td>\n",
       "      <td>0.29</td>\n",
       "      <td>0.99</td>\n",
       "      <td>0.38</td>\n",
       "      <td>0.92</td>\n",
       "      <td>0.66</td>\n",
       "      <td>0.92</td>\n",
       "      <td>DNN Classifier</td>\n",
       "      <td>Wearable Sensor Data</td>\n",
       "    </tr>\n",
       "    <tr>\n",
       "      <th>29</th>\n",
       "      <td>support</td>\n",
       "      <td>5010.00</td>\n",
       "      <td>1402.00</td>\n",
       "      <td>15426.00</td>\n",
       "      <td>701.00</td>\n",
       "      <td>22539.00</td>\n",
       "      <td>22539.00</td>\n",
       "      <td>22539.00</td>\n",
       "      <td>DNN Classifier</td>\n",
       "      <td>Wearable Sensor Data</td>\n",
       "    </tr>\n",
       "    <tr>\n",
       "      <th>30</th>\n",
       "      <td>Traing Accuracy</td>\n",
       "      <td>NaN</td>\n",
       "      <td>NaN</td>\n",
       "      <td>NaN</td>\n",
       "      <td>NaN</td>\n",
       "      <td>NaN</td>\n",
       "      <td>0.92</td>\n",
       "      <td>NaN</td>\n",
       "      <td>DNN Classifier</td>\n",
       "      <td>Wearable Sensor Data</td>\n",
       "    </tr>\n",
       "    <tr>\n",
       "      <th>31</th>\n",
       "      <td>Test Accuracy</td>\n",
       "      <td>NaN</td>\n",
       "      <td>NaN</td>\n",
       "      <td>NaN</td>\n",
       "      <td>NaN</td>\n",
       "      <td>NaN</td>\n",
       "      <td>0.92</td>\n",
       "      <td>NaN</td>\n",
       "      <td>DNN Classifier</td>\n",
       "      <td>Wearable Sensor Data</td>\n",
       "    </tr>\n",
       "    <tr>\n",
       "      <th>32</th>\n",
       "      <td>Model_Time</td>\n",
       "      <td>NaN</td>\n",
       "      <td>NaN</td>\n",
       "      <td>NaN</td>\n",
       "      <td>NaN</td>\n",
       "      <td>NaN</td>\n",
       "      <td>86.50</td>\n",
       "      <td>NaN</td>\n",
       "      <td>DNN Classifier</td>\n",
       "      <td>Wearable Sensor Data</td>\n",
       "    </tr>\n",
       "    <tr>\n",
       "      <th>33</th>\n",
       "      <td>Specificity</td>\n",
       "      <td>0.92</td>\n",
       "      <td>1.00</td>\n",
       "      <td>0.99</td>\n",
       "      <td>0.99</td>\n",
       "      <td>NaN</td>\n",
       "      <td>NaN</td>\n",
       "      <td>NaN</td>\n",
       "      <td>DNN Classifier</td>\n",
       "      <td>Wearable Sensor Data</td>\n",
       "    </tr>\n",
       "    <tr>\n",
       "      <th>34</th>\n",
       "      <td>Negative predictive value</td>\n",
       "      <td>0.99</td>\n",
       "      <td>0.96</td>\n",
       "      <td>0.97</td>\n",
       "      <td>0.98</td>\n",
       "      <td>NaN</td>\n",
       "      <td>NaN</td>\n",
       "      <td>NaN</td>\n",
       "      <td>DNN Classifier</td>\n",
       "      <td>Wearable Sensor Data</td>\n",
       "    </tr>\n",
       "    <tr>\n",
       "      <th>35</th>\n",
       "      <td>Positive Likelihood Ratio</td>\n",
       "      <td>11.32</td>\n",
       "      <td>81.73</td>\n",
       "      <td>72.40</td>\n",
       "      <td>44.81</td>\n",
       "      <td>NaN</td>\n",
       "      <td>NaN</td>\n",
       "      <td>NaN</td>\n",
       "      <td>DNN Classifier</td>\n",
       "      <td>Wearable Sensor Data</td>\n",
       "    </tr>\n",
       "    <tr>\n",
       "      <th>36</th>\n",
       "      <td>Negative likelihood ratio</td>\n",
       "      <td>20.66</td>\n",
       "      <td>1.41</td>\n",
       "      <td>77.63</td>\n",
       "      <td>1.61</td>\n",
       "      <td>NaN</td>\n",
       "      <td>NaN</td>\n",
       "      <td>NaN</td>\n",
       "      <td>DNN Classifier</td>\n",
       "      <td>Wearable Sensor Data</td>\n",
       "    </tr>\n",
       "    <tr>\n",
       "      <th>37</th>\n",
       "      <td>Overall Misclassification Ratio</td>\n",
       "      <td>0.08</td>\n",
       "      <td>0.05</td>\n",
       "      <td>0.01</td>\n",
       "      <td>0.03</td>\n",
       "      <td>NaN</td>\n",
       "      <td>NaN</td>\n",
       "      <td>NaN</td>\n",
       "      <td>DNN Classifier</td>\n",
       "      <td>Wearable Sensor Data</td>\n",
       "    </tr>\n",
       "    <tr>\n",
       "      <th>38</th>\n",
       "      <td>ROC curve_Avergae</td>\n",
       "      <td>NaN</td>\n",
       "      <td>NaN</td>\n",
       "      <td>NaN</td>\n",
       "      <td>NaN</td>\n",
       "      <td>NaN</td>\n",
       "      <td>0.95</td>\n",
       "      <td>NaN</td>\n",
       "      <td>DNN Classifier</td>\n",
       "      <td>Wearable Sensor Data</td>\n",
       "    </tr>\n",
       "    <tr>\n",
       "      <th>39</th>\n",
       "      <td>f1-score</td>\n",
       "      <td>0.90</td>\n",
       "      <td>0.87</td>\n",
       "      <td>0.97</td>\n",
       "      <td>0.79</td>\n",
       "      <td>0.94</td>\n",
       "      <td>0.88</td>\n",
       "      <td>0.94</td>\n",
       "      <td>KNN Classifier</td>\n",
       "      <td>Wearable Sensor Data</td>\n",
       "    </tr>\n",
       "    <tr>\n",
       "      <th>40</th>\n",
       "      <td>precision</td>\n",
       "      <td>0.91</td>\n",
       "      <td>0.88</td>\n",
       "      <td>0.96</td>\n",
       "      <td>0.85</td>\n",
       "      <td>0.94</td>\n",
       "      <td>0.90</td>\n",
       "      <td>0.94</td>\n",
       "      <td>KNN Classifier</td>\n",
       "      <td>Wearable Sensor Data</td>\n",
       "    </tr>\n",
       "    <tr>\n",
       "      <th>41</th>\n",
       "      <td>recall</td>\n",
       "      <td>0.88</td>\n",
       "      <td>0.87</td>\n",
       "      <td>0.98</td>\n",
       "      <td>0.75</td>\n",
       "      <td>0.94</td>\n",
       "      <td>0.87</td>\n",
       "      <td>0.94</td>\n",
       "      <td>KNN Classifier</td>\n",
       "      <td>Wearable Sensor Data</td>\n",
       "    </tr>\n",
       "    <tr>\n",
       "      <th>42</th>\n",
       "      <td>support</td>\n",
       "      <td>5010.00</td>\n",
       "      <td>1402.00</td>\n",
       "      <td>15426.00</td>\n",
       "      <td>701.00</td>\n",
       "      <td>22539.00</td>\n",
       "      <td>22539.00</td>\n",
       "      <td>22539.00</td>\n",
       "      <td>KNN Classifier</td>\n",
       "      <td>Wearable Sensor Data</td>\n",
       "    </tr>\n",
       "    <tr>\n",
       "      <th>43</th>\n",
       "      <td>Training Accuracy</td>\n",
       "      <td>NaN</td>\n",
       "      <td>NaN</td>\n",
       "      <td>NaN</td>\n",
       "      <td>NaN</td>\n",
       "      <td>NaN</td>\n",
       "      <td>1.00</td>\n",
       "      <td>NaN</td>\n",
       "      <td>KNN Classifier</td>\n",
       "      <td>Wearable Sensor Data</td>\n",
       "    </tr>\n",
       "    <tr>\n",
       "      <th>44</th>\n",
       "      <td>Test Accuracy</td>\n",
       "      <td>NaN</td>\n",
       "      <td>NaN</td>\n",
       "      <td>NaN</td>\n",
       "      <td>NaN</td>\n",
       "      <td>NaN</td>\n",
       "      <td>0.94</td>\n",
       "      <td>NaN</td>\n",
       "      <td>KNN Classifier</td>\n",
       "      <td>Wearable Sensor Data</td>\n",
       "    </tr>\n",
       "    <tr>\n",
       "      <th>45</th>\n",
       "      <td>Model_Time</td>\n",
       "      <td>NaN</td>\n",
       "      <td>NaN</td>\n",
       "      <td>NaN</td>\n",
       "      <td>NaN</td>\n",
       "      <td>NaN</td>\n",
       "      <td>5.41</td>\n",
       "      <td>NaN</td>\n",
       "      <td>KNN Classifier</td>\n",
       "      <td>Wearable Sensor Data</td>\n",
       "    </tr>\n",
       "    <tr>\n",
       "      <th>46</th>\n",
       "      <td>Specificity</td>\n",
       "      <td>0.98</td>\n",
       "      <td>0.99</td>\n",
       "      <td>0.92</td>\n",
       "      <td>1.00</td>\n",
       "      <td>NaN</td>\n",
       "      <td>NaN</td>\n",
       "      <td>NaN</td>\n",
       "      <td>KNN Classifier</td>\n",
       "      <td>Wearable Sensor Data</td>\n",
       "    </tr>\n",
       "    <tr>\n",
       "      <th>47</th>\n",
       "      <td>Negative predictive value</td>\n",
       "      <td>0.97</td>\n",
       "      <td>0.99</td>\n",
       "      <td>0.95</td>\n",
       "      <td>0.99</td>\n",
       "      <td>NaN</td>\n",
       "      <td>NaN</td>\n",
       "      <td>NaN</td>\n",
       "      <td>KNN Classifier</td>\n",
       "      <td>Wearable Sensor Data</td>\n",
       "    </tr>\n",
       "    <tr>\n",
       "      <th>48</th>\n",
       "      <td>Positive Likelihood Ratio</td>\n",
       "      <td>35.57</td>\n",
       "      <td>105.88</td>\n",
       "      <td>11.50</td>\n",
       "      <td>177.10</td>\n",
       "      <td>NaN</td>\n",
       "      <td>NaN</td>\n",
       "      <td>NaN</td>\n",
       "      <td>KNN Classifier</td>\n",
       "      <td>Wearable Sensor Data</td>\n",
       "    </tr>\n",
       "    <tr>\n",
       "      <th>49</th>\n",
       "      <td>Negative likelihood ratio</td>\n",
       "      <td>8.47</td>\n",
       "      <td>7.44</td>\n",
       "      <td>38.89</td>\n",
       "      <td>3.92</td>\n",
       "      <td>NaN</td>\n",
       "      <td>NaN</td>\n",
       "      <td>NaN</td>\n",
       "      <td>KNN Classifier</td>\n",
       "      <td>Wearable Sensor Data</td>\n",
       "    </tr>\n",
       "    <tr>\n",
       "      <th>50</th>\n",
       "      <td>Overall Misclassification Ratio</td>\n",
       "      <td>0.04</td>\n",
       "      <td>0.02</td>\n",
       "      <td>0.04</td>\n",
       "      <td>0.01</td>\n",
       "      <td>NaN</td>\n",
       "      <td>NaN</td>\n",
       "      <td>NaN</td>\n",
       "      <td>KNN Classifier</td>\n",
       "      <td>Wearable Sensor Data</td>\n",
       "    </tr>\n",
       "    <tr>\n",
       "      <th>51</th>\n",
       "      <td>ROC curve_Avergae</td>\n",
       "      <td>NaN</td>\n",
       "      <td>NaN</td>\n",
       "      <td>NaN</td>\n",
       "      <td>NaN</td>\n",
       "      <td>NaN</td>\n",
       "      <td>0.92</td>\n",
       "      <td>NaN</td>\n",
       "      <td>KNN Classifier</td>\n",
       "      <td>Wearable Sensor Data</td>\n",
       "    </tr>\n",
       "    <tr>\n",
       "      <th>52</th>\n",
       "      <td>f1-score</td>\n",
       "      <td>0.85</td>\n",
       "      <td>0.53</td>\n",
       "      <td>0.99</td>\n",
       "      <td>0.25</td>\n",
       "      <td>0.92</td>\n",
       "      <td>0.66</td>\n",
       "      <td>0.91</td>\n",
       "      <td>GBM Classification</td>\n",
       "      <td>Wearable Sensor Data</td>\n",
       "    </tr>\n",
       "    <tr>\n",
       "      <th>53</th>\n",
       "      <td>precision</td>\n",
       "      <td>0.77</td>\n",
       "      <td>0.87</td>\n",
       "      <td>0.98</td>\n",
       "      <td>0.90</td>\n",
       "      <td>0.92</td>\n",
       "      <td>0.88</td>\n",
       "      <td>0.93</td>\n",
       "      <td>GBM Classification</td>\n",
       "      <td>Wearable Sensor Data</td>\n",
       "    </tr>\n",
       "    <tr>\n",
       "      <th>54</th>\n",
       "      <td>recall</td>\n",
       "      <td>0.95</td>\n",
       "      <td>0.38</td>\n",
       "      <td>1.00</td>\n",
       "      <td>0.14</td>\n",
       "      <td>0.92</td>\n",
       "      <td>0.62</td>\n",
       "      <td>0.92</td>\n",
       "      <td>GBM Classification</td>\n",
       "      <td>Wearable Sensor Data</td>\n",
       "    </tr>\n",
       "    <tr>\n",
       "      <th>55</th>\n",
       "      <td>support</td>\n",
       "      <td>5010.00</td>\n",
       "      <td>1402.00</td>\n",
       "      <td>15426.00</td>\n",
       "      <td>701.00</td>\n",
       "      <td>22539.00</td>\n",
       "      <td>22539.00</td>\n",
       "      <td>22539.00</td>\n",
       "      <td>GBM Classification</td>\n",
       "      <td>Wearable Sensor Data</td>\n",
       "    </tr>\n",
       "    <tr>\n",
       "      <th>56</th>\n",
       "      <td>Training Accuracy</td>\n",
       "      <td>NaN</td>\n",
       "      <td>NaN</td>\n",
       "      <td>NaN</td>\n",
       "      <td>NaN</td>\n",
       "      <td>NaN</td>\n",
       "      <td>0.92</td>\n",
       "      <td>NaN</td>\n",
       "      <td>GBM Classification</td>\n",
       "      <td>Wearable Sensor Data</td>\n",
       "    </tr>\n",
       "    <tr>\n",
       "      <th>57</th>\n",
       "      <td>Test Accuracy</td>\n",
       "      <td>NaN</td>\n",
       "      <td>NaN</td>\n",
       "      <td>NaN</td>\n",
       "      <td>NaN</td>\n",
       "      <td>NaN</td>\n",
       "      <td>0.92</td>\n",
       "      <td>NaN</td>\n",
       "      <td>GBM Classification</td>\n",
       "      <td>Wearable Sensor Data</td>\n",
       "    </tr>\n",
       "    <tr>\n",
       "      <th>58</th>\n",
       "      <td>Model_Time</td>\n",
       "      <td>NaN</td>\n",
       "      <td>NaN</td>\n",
       "      <td>NaN</td>\n",
       "      <td>NaN</td>\n",
       "      <td>NaN</td>\n",
       "      <td>2.51</td>\n",
       "      <td>NaN</td>\n",
       "      <td>GBM Classification</td>\n",
       "      <td>Wearable Sensor Data</td>\n",
       "    </tr>\n",
       "    <tr>\n",
       "      <th>59</th>\n",
       "      <td>Specificity</td>\n",
       "      <td>0.92</td>\n",
       "      <td>1.00</td>\n",
       "      <td>0.97</td>\n",
       "      <td>1.00</td>\n",
       "      <td>NaN</td>\n",
       "      <td>NaN</td>\n",
       "      <td>NaN</td>\n",
       "      <td>GBM Classification</td>\n",
       "      <td>Wearable Sensor Data</td>\n",
       "    </tr>\n",
       "    <tr>\n",
       "      <th>60</th>\n",
       "      <td>Negative predictive value</td>\n",
       "      <td>0.98</td>\n",
       "      <td>0.96</td>\n",
       "      <td>1.00</td>\n",
       "      <td>0.97</td>\n",
       "      <td>NaN</td>\n",
       "      <td>NaN</td>\n",
       "      <td>NaN</td>\n",
       "      <td>GBM Classification</td>\n",
       "      <td>Wearable Sensor Data</td>\n",
       "    </tr>\n",
       "    <tr>\n",
       "      <th>61</th>\n",
       "      <td>Positive Likelihood Ratio</td>\n",
       "      <td>11.99</td>\n",
       "      <td>102.10</td>\n",
       "      <td>29.15</td>\n",
       "      <td>286.04</td>\n",
       "      <td>NaN</td>\n",
       "      <td>NaN</td>\n",
       "      <td>NaN</td>\n",
       "      <td>GBM Classification</td>\n",
       "      <td>Wearable Sensor Data</td>\n",
       "    </tr>\n",
       "    <tr>\n",
       "      <th>62</th>\n",
       "      <td>Negative likelihood ratio</td>\n",
       "      <td>18.23</td>\n",
       "      <td>1.61</td>\n",
       "      <td>7448.42</td>\n",
       "      <td>1.17</td>\n",
       "      <td>NaN</td>\n",
       "      <td>NaN</td>\n",
       "      <td>NaN</td>\n",
       "      <td>GBM Classification</td>\n",
       "      <td>Wearable Sensor Data</td>\n",
       "    </tr>\n",
       "    <tr>\n",
       "      <th>63</th>\n",
       "      <td>Overall Misclassification Ratio</td>\n",
       "      <td>0.07</td>\n",
       "      <td>0.04</td>\n",
       "      <td>0.01</td>\n",
       "      <td>0.03</td>\n",
       "      <td>NaN</td>\n",
       "      <td>NaN</td>\n",
       "      <td>NaN</td>\n",
       "      <td>GBM Classification</td>\n",
       "      <td>Wearable Sensor Data</td>\n",
       "    </tr>\n",
       "    <tr>\n",
       "      <th>64</th>\n",
       "      <td>ROC curve_Avergae</td>\n",
       "      <td>NaN</td>\n",
       "      <td>NaN</td>\n",
       "      <td>NaN</td>\n",
       "      <td>NaN</td>\n",
       "      <td>NaN</td>\n",
       "      <td>0.98</td>\n",
       "      <td>NaN</td>\n",
       "      <td>GBM Classification</td>\n",
       "      <td>Wearable Sensor Data</td>\n",
       "    </tr>\n",
       "    <tr>\n",
       "      <th>65</th>\n",
       "      <td>f1-score</td>\n",
       "      <td>0.80</td>\n",
       "      <td>0.00</td>\n",
       "      <td>0.98</td>\n",
       "      <td>0.00</td>\n",
       "      <td>0.89</td>\n",
       "      <td>0.44</td>\n",
       "      <td>0.85</td>\n",
       "      <td>SVM Classifier</td>\n",
       "      <td>Wearable Sensor Data</td>\n",
       "    </tr>\n",
       "    <tr>\n",
       "      <th>66</th>\n",
       "      <td>precision</td>\n",
       "      <td>0.71</td>\n",
       "      <td>0.00</td>\n",
       "      <td>0.96</td>\n",
       "      <td>0.00</td>\n",
       "      <td>0.89</td>\n",
       "      <td>0.42</td>\n",
       "      <td>0.81</td>\n",
       "      <td>SVM Classifier</td>\n",
       "      <td>Wearable Sensor Data</td>\n",
       "    </tr>\n",
       "    <tr>\n",
       "      <th>67</th>\n",
       "      <td>recall</td>\n",
       "      <td>0.92</td>\n",
       "      <td>0.00</td>\n",
       "      <td>1.00</td>\n",
       "      <td>0.00</td>\n",
       "      <td>0.89</td>\n",
       "      <td>0.48</td>\n",
       "      <td>0.89</td>\n",
       "      <td>SVM Classifier</td>\n",
       "      <td>Wearable Sensor Data</td>\n",
       "    </tr>\n",
       "    <tr>\n",
       "      <th>68</th>\n",
       "      <td>support</td>\n",
       "      <td>5010.00</td>\n",
       "      <td>1402.00</td>\n",
       "      <td>15426.00</td>\n",
       "      <td>701.00</td>\n",
       "      <td>22539.00</td>\n",
       "      <td>22539.00</td>\n",
       "      <td>22539.00</td>\n",
       "      <td>SVM Classifier</td>\n",
       "      <td>Wearable Sensor Data</td>\n",
       "    </tr>\n",
       "    <tr>\n",
       "      <th>69</th>\n",
       "      <td>Training Accuracy</td>\n",
       "      <td>NaN</td>\n",
       "      <td>NaN</td>\n",
       "      <td>NaN</td>\n",
       "      <td>NaN</td>\n",
       "      <td>NaN</td>\n",
       "      <td>0.89</td>\n",
       "      <td>NaN</td>\n",
       "      <td>SVM Classifier</td>\n",
       "      <td>Wearable Sensor Data</td>\n",
       "    </tr>\n",
       "    <tr>\n",
       "      <th>70</th>\n",
       "      <td>Test Accuracy</td>\n",
       "      <td>NaN</td>\n",
       "      <td>NaN</td>\n",
       "      <td>NaN</td>\n",
       "      <td>NaN</td>\n",
       "      <td>NaN</td>\n",
       "      <td>0.89</td>\n",
       "      <td>NaN</td>\n",
       "      <td>SVM Classifier</td>\n",
       "      <td>Wearable Sensor Data</td>\n",
       "    </tr>\n",
       "    <tr>\n",
       "      <th>71</th>\n",
       "      <td>Model_Time</td>\n",
       "      <td>NaN</td>\n",
       "      <td>NaN</td>\n",
       "      <td>NaN</td>\n",
       "      <td>NaN</td>\n",
       "      <td>NaN</td>\n",
       "      <td>1267.29</td>\n",
       "      <td>NaN</td>\n",
       "      <td>SVM Classifier</td>\n",
       "      <td>Wearable Sensor Data</td>\n",
       "    </tr>\n",
       "    <tr>\n",
       "      <th>72</th>\n",
       "      <td>Specificity</td>\n",
       "      <td>0.89</td>\n",
       "      <td>1.00</td>\n",
       "      <td>0.91</td>\n",
       "      <td>1.00</td>\n",
       "      <td>NaN</td>\n",
       "      <td>NaN</td>\n",
       "      <td>NaN</td>\n",
       "      <td>SVM Classifier</td>\n",
       "      <td>Wearable Sensor Data</td>\n",
       "    </tr>\n",
       "    <tr>\n",
       "      <th>73</th>\n",
       "      <td>Negative predictive value</td>\n",
       "      <td>0.97</td>\n",
       "      <td>0.94</td>\n",
       "      <td>1.00</td>\n",
       "      <td>0.97</td>\n",
       "      <td>NaN</td>\n",
       "      <td>NaN</td>\n",
       "      <td>NaN</td>\n",
       "      <td>SVM Classifier</td>\n",
       "      <td>Wearable Sensor Data</td>\n",
       "    </tr>\n",
       "    <tr>\n",
       "      <th>74</th>\n",
       "      <td>Positive Likelihood Ratio</td>\n",
       "      <td>8.57</td>\n",
       "      <td>NaN</td>\n",
       "      <td>10.82</td>\n",
       "      <td>NaN</td>\n",
       "      <td>NaN</td>\n",
       "      <td>NaN</td>\n",
       "      <td>NaN</td>\n",
       "      <td>SVM Classifier</td>\n",
       "      <td>Wearable Sensor Data</td>\n",
       "    </tr>\n",
       "    <tr>\n",
       "      <th>75</th>\n",
       "      <td>Negative likelihood ratio</td>\n",
       "      <td>10.68</td>\n",
       "      <td>1.00</td>\n",
       "      <td>1400.12</td>\n",
       "      <td>1.00</td>\n",
       "      <td>NaN</td>\n",
       "      <td>NaN</td>\n",
       "      <td>NaN</td>\n",
       "      <td>SVM Classifier</td>\n",
       "      <td>Wearable Sensor Data</td>\n",
       "    </tr>\n",
       "    <tr>\n",
       "      <th>76</th>\n",
       "      <td>Overall Misclassification Ratio</td>\n",
       "      <td>0.10</td>\n",
       "      <td>0.06</td>\n",
       "      <td>0.03</td>\n",
       "      <td>0.03</td>\n",
       "      <td>NaN</td>\n",
       "      <td>NaN</td>\n",
       "      <td>NaN</td>\n",
       "      <td>SVM Classifier</td>\n",
       "      <td>Wearable Sensor Data</td>\n",
       "    </tr>\n",
       "    <tr>\n",
       "      <th>77</th>\n",
       "      <td>ROC curve_Avergae</td>\n",
       "      <td>NaN</td>\n",
       "      <td>NaN</td>\n",
       "      <td>NaN</td>\n",
       "      <td>NaN</td>\n",
       "      <td>NaN</td>\n",
       "      <td>0.95</td>\n",
       "      <td>NaN</td>\n",
       "      <td>SVM Classifier</td>\n",
       "      <td>Wearable Sensor Data</td>\n",
       "    </tr>\n",
       "  </tbody>\n",
       "</table>\n",
       "</div>"
      ],
      "text/plain": [
       "                  Perfomance Matrix  Sit On Bed  Sit on Chair     Lying  \\\n",
       "0                          f1-score        0.85          0.44      1.00   \n",
       "1                         precision        0.78          0.72      0.99   \n",
       "2                            recall        0.95          0.32      1.00   \n",
       "3                           support     5010.00       1402.00  15426.00   \n",
       "4                 Training Accuracy         NaN           NaN       NaN   \n",
       "5                     Test Accuracy         NaN           NaN       NaN   \n",
       "6                        Model_Time         NaN           NaN       NaN   \n",
       "7                       Specificity        0.92          0.99      0.98   \n",
       "8         Negative predictive value        0.98          0.96      1.00   \n",
       "9         Positive Likelihood Ratio       12.23         38.64     58.76   \n",
       "10       Negative likelihood ratio        17.98          1.45   2166.23   \n",
       "11  Overall Misclassification Ratio        0.07          0.05      0.01   \n",
       "12                ROC curve_Avergae         NaN           NaN       NaN   \n",
       "13                         f1-score        0.99          0.98      1.00   \n",
       "14                        precision        0.98          0.97      1.00   \n",
       "15                           recall        0.99          0.99      1.00   \n",
       "16                          support     5010.00       1402.00  15426.00   \n",
       "17                Training Accuracy         NaN           NaN       NaN   \n",
       "18                    Test Accuracy         NaN           NaN       NaN   \n",
       "19                       Model_Time         NaN           NaN       NaN   \n",
       "20                      Specificity        0.99          1.00      1.00   \n",
       "21        Negative predictive value        1.00          1.00      1.00   \n",
       "22        Positive Likelihood Ratio      162.42        582.53    308.92   \n",
       "23       Negative likelihood ratio       115.80        127.24    904.48   \n",
       "24  Overall Misclassification Ratio        0.01          0.00      0.00   \n",
       "25                ROC curve_Avergae         NaN           NaN       NaN   \n",
       "26                         f1-score        0.85          0.44      0.99   \n",
       "27                        precision        0.76          0.84      0.99   \n",
       "28                           recall        0.96          0.29      0.99   \n",
       "29                          support     5010.00       1402.00  15426.00   \n",
       "30                  Traing Accuracy         NaN           NaN       NaN   \n",
       "31                    Test Accuracy         NaN           NaN       NaN   \n",
       "32                       Model_Time         NaN           NaN       NaN   \n",
       "33                      Specificity        0.92          1.00      0.99   \n",
       "34        Negative predictive value        0.99          0.96      0.97   \n",
       "35        Positive Likelihood Ratio       11.32         81.73     72.40   \n",
       "36       Negative likelihood ratio        20.66          1.41     77.63   \n",
       "37  Overall Misclassification Ratio        0.08          0.05      0.01   \n",
       "38                ROC curve_Avergae         NaN           NaN       NaN   \n",
       "39                         f1-score        0.90          0.87      0.97   \n",
       "40                        precision        0.91          0.88      0.96   \n",
       "41                           recall        0.88          0.87      0.98   \n",
       "42                          support     5010.00       1402.00  15426.00   \n",
       "43                Training Accuracy         NaN           NaN       NaN   \n",
       "44                    Test Accuracy         NaN           NaN       NaN   \n",
       "45                       Model_Time         NaN           NaN       NaN   \n",
       "46                      Specificity        0.98          0.99      0.92   \n",
       "47        Negative predictive value        0.97          0.99      0.95   \n",
       "48        Positive Likelihood Ratio       35.57        105.88     11.50   \n",
       "49       Negative likelihood ratio         8.47          7.44     38.89   \n",
       "50  Overall Misclassification Ratio        0.04          0.02      0.04   \n",
       "51                ROC curve_Avergae         NaN           NaN       NaN   \n",
       "52                         f1-score        0.85          0.53      0.99   \n",
       "53                        precision        0.77          0.87      0.98   \n",
       "54                           recall        0.95          0.38      1.00   \n",
       "55                          support     5010.00       1402.00  15426.00   \n",
       "56                Training Accuracy         NaN           NaN       NaN   \n",
       "57                    Test Accuracy         NaN           NaN       NaN   \n",
       "58                       Model_Time         NaN           NaN       NaN   \n",
       "59                      Specificity        0.92          1.00      0.97   \n",
       "60        Negative predictive value        0.98          0.96      1.00   \n",
       "61        Positive Likelihood Ratio       11.99        102.10     29.15   \n",
       "62       Negative likelihood ratio        18.23          1.61   7448.42   \n",
       "63  Overall Misclassification Ratio        0.07          0.04      0.01   \n",
       "64                ROC curve_Avergae         NaN           NaN       NaN   \n",
       "65                         f1-score        0.80          0.00      0.98   \n",
       "66                        precision        0.71          0.00      0.96   \n",
       "67                           recall        0.92          0.00      1.00   \n",
       "68                          support     5010.00       1402.00  15426.00   \n",
       "69                Training Accuracy         NaN           NaN       NaN   \n",
       "70                    Test Accuracy         NaN           NaN       NaN   \n",
       "71                       Model_Time         NaN           NaN       NaN   \n",
       "72                      Specificity        0.89          1.00      0.91   \n",
       "73        Negative predictive value        0.97          0.94      1.00   \n",
       "74        Positive Likelihood Ratio        8.57           NaN     10.82   \n",
       "75       Negative likelihood ratio        10.68          1.00   1400.12   \n",
       "76  Overall Misclassification Ratio        0.10          0.06      0.03   \n",
       "77                ROC curve_Avergae         NaN           NaN       NaN   \n",
       "\n",
       "    Ambulating  micro avg  macro avg  weighted avg                Model1  \\\n",
       "0         0.52       0.93       0.70          0.92  Logistics Regression   \n",
       "1         0.94       0.93       0.86          0.93  Logistics Regression   \n",
       "2         0.36       0.93       0.66          0.93  Logistics Regression   \n",
       "3       701.00   22539.00   22539.00      22539.00  Logistics Regression   \n",
       "4          NaN        NaN       0.92           NaN  Logistics Regression   \n",
       "5          NaN        NaN       0.93           NaN  Logistics Regression   \n",
       "6          NaN        NaN      82.63           NaN  Logistics Regression   \n",
       "7         1.00        NaN        NaN           NaN  Logistics Regression   \n",
       "8         0.98        NaN        NaN           NaN  Logistics Regression   \n",
       "9       521.29        NaN        NaN           NaN  Logistics Regression   \n",
       "10        1.56        NaN        NaN           NaN  Logistics Regression   \n",
       "11        0.02        NaN        NaN           NaN  Logistics Regression   \n",
       "12         NaN        NaN       0.96           NaN  Logistics Regression   \n",
       "13        0.88       0.99       0.96          0.99         Random Forest   \n",
       "14        0.95       0.99       0.98          0.99         Random Forest   \n",
       "15        0.82       0.99       0.95          0.99         Random Forest   \n",
       "16      701.00   22539.00   22539.00      22539.00         Random Forest   \n",
       "17         NaN        NaN       1.00           NaN         Random Forest   \n",
       "18         NaN        NaN       0.99           NaN         Random Forest   \n",
       "19         NaN        NaN       2.27           NaN         Random Forest   \n",
       "20        1.00        NaN        NaN           NaN         Random Forest   \n",
       "21        0.99        NaN        NaN           NaN         Random Forest   \n",
       "22      643.08        NaN        NaN           NaN         Random Forest   \n",
       "23        5.69        NaN        NaN           NaN         Random Forest   \n",
       "24        0.01        NaN        NaN           NaN         Random Forest   \n",
       "25         NaN        NaN       1.00           NaN         Random Forest   \n",
       "26        0.46       0.92       0.69          0.91        DNN Classifier   \n",
       "27        0.59       0.92       0.80          0.92        DNN Classifier   \n",
       "28        0.38       0.92       0.66          0.92        DNN Classifier   \n",
       "29      701.00   22539.00   22539.00      22539.00        DNN Classifier   \n",
       "30         NaN        NaN       0.92           NaN        DNN Classifier   \n",
       "31         NaN        NaN       0.92           NaN        DNN Classifier   \n",
       "32         NaN        NaN      86.50           NaN        DNN Classifier   \n",
       "33        0.99        NaN        NaN           NaN        DNN Classifier   \n",
       "34        0.98        NaN        NaN           NaN        DNN Classifier   \n",
       "35       44.81        NaN        NaN           NaN        DNN Classifier   \n",
       "36        1.61        NaN        NaN           NaN        DNN Classifier   \n",
       "37        0.03        NaN        NaN           NaN        DNN Classifier   \n",
       "38         NaN        NaN       0.95           NaN        DNN Classifier   \n",
       "39        0.79       0.94       0.88          0.94        KNN Classifier   \n",
       "40        0.85       0.94       0.90          0.94        KNN Classifier   \n",
       "41        0.75       0.94       0.87          0.94        KNN Classifier   \n",
       "42      701.00   22539.00   22539.00      22539.00        KNN Classifier   \n",
       "43         NaN        NaN       1.00           NaN        KNN Classifier   \n",
       "44         NaN        NaN       0.94           NaN        KNN Classifier   \n",
       "45         NaN        NaN       5.41           NaN        KNN Classifier   \n",
       "46        1.00        NaN        NaN           NaN        KNN Classifier   \n",
       "47        0.99        NaN        NaN           NaN        KNN Classifier   \n",
       "48      177.10        NaN        NaN           NaN        KNN Classifier   \n",
       "49        3.92        NaN        NaN           NaN        KNN Classifier   \n",
       "50        0.01        NaN        NaN           NaN        KNN Classifier   \n",
       "51         NaN        NaN       0.92           NaN        KNN Classifier   \n",
       "52        0.25       0.92       0.66          0.91    GBM Classification   \n",
       "53        0.90       0.92       0.88          0.93    GBM Classification   \n",
       "54        0.14       0.92       0.62          0.92    GBM Classification   \n",
       "55      701.00   22539.00   22539.00      22539.00    GBM Classification   \n",
       "56         NaN        NaN       0.92           NaN    GBM Classification   \n",
       "57         NaN        NaN       0.92           NaN    GBM Classification   \n",
       "58         NaN        NaN       2.51           NaN    GBM Classification   \n",
       "59        1.00        NaN        NaN           NaN    GBM Classification   \n",
       "60        0.97        NaN        NaN           NaN    GBM Classification   \n",
       "61      286.04        NaN        NaN           NaN    GBM Classification   \n",
       "62        1.17        NaN        NaN           NaN    GBM Classification   \n",
       "63        0.03        NaN        NaN           NaN    GBM Classification   \n",
       "64         NaN        NaN       0.98           NaN    GBM Classification   \n",
       "65        0.00       0.89       0.44          0.85        SVM Classifier   \n",
       "66        0.00       0.89       0.42          0.81        SVM Classifier   \n",
       "67        0.00       0.89       0.48          0.89        SVM Classifier   \n",
       "68      701.00   22539.00   22539.00      22539.00        SVM Classifier   \n",
       "69         NaN        NaN       0.89           NaN        SVM Classifier   \n",
       "70         NaN        NaN       0.89           NaN        SVM Classifier   \n",
       "71         NaN        NaN    1267.29           NaN        SVM Classifier   \n",
       "72        1.00        NaN        NaN           NaN        SVM Classifier   \n",
       "73        0.97        NaN        NaN           NaN        SVM Classifier   \n",
       "74         NaN        NaN        NaN           NaN        SVM Classifier   \n",
       "75        1.00        NaN        NaN           NaN        SVM Classifier   \n",
       "76        0.03        NaN        NaN           NaN        SVM Classifier   \n",
       "77         NaN        NaN       0.95           NaN        SVM Classifier   \n",
       "\n",
       "               Data Type  \n",
       "0   Wearable Sensor Data  \n",
       "1   Wearable Sensor Data  \n",
       "2   Wearable Sensor Data  \n",
       "3   Wearable Sensor Data  \n",
       "4   Wearable Sensor Data  \n",
       "5   Wearable Sensor Data  \n",
       "6   Wearable Sensor Data  \n",
       "7   Wearable Sensor Data  \n",
       "8   Wearable Sensor Data  \n",
       "9   Wearable Sensor Data  \n",
       "10  Wearable Sensor Data  \n",
       "11  Wearable Sensor Data  \n",
       "12  Wearable Sensor Data  \n",
       "13  Wearable Sensor Data  \n",
       "14  Wearable Sensor Data  \n",
       "15  Wearable Sensor Data  \n",
       "16  Wearable Sensor Data  \n",
       "17  Wearable Sensor Data  \n",
       "18  Wearable Sensor Data  \n",
       "19  Wearable Sensor Data  \n",
       "20  Wearable Sensor Data  \n",
       "21  Wearable Sensor Data  \n",
       "22  Wearable Sensor Data  \n",
       "23  Wearable Sensor Data  \n",
       "24  Wearable Sensor Data  \n",
       "25  Wearable Sensor Data  \n",
       "26  Wearable Sensor Data  \n",
       "27  Wearable Sensor Data  \n",
       "28  Wearable Sensor Data  \n",
       "29  Wearable Sensor Data  \n",
       "30  Wearable Sensor Data  \n",
       "31  Wearable Sensor Data  \n",
       "32  Wearable Sensor Data  \n",
       "33  Wearable Sensor Data  \n",
       "34  Wearable Sensor Data  \n",
       "35  Wearable Sensor Data  \n",
       "36  Wearable Sensor Data  \n",
       "37  Wearable Sensor Data  \n",
       "38  Wearable Sensor Data  \n",
       "39  Wearable Sensor Data  \n",
       "40  Wearable Sensor Data  \n",
       "41  Wearable Sensor Data  \n",
       "42  Wearable Sensor Data  \n",
       "43  Wearable Sensor Data  \n",
       "44  Wearable Sensor Data  \n",
       "45  Wearable Sensor Data  \n",
       "46  Wearable Sensor Data  \n",
       "47  Wearable Sensor Data  \n",
       "48  Wearable Sensor Data  \n",
       "49  Wearable Sensor Data  \n",
       "50  Wearable Sensor Data  \n",
       "51  Wearable Sensor Data  \n",
       "52  Wearable Sensor Data  \n",
       "53  Wearable Sensor Data  \n",
       "54  Wearable Sensor Data  \n",
       "55  Wearable Sensor Data  \n",
       "56  Wearable Sensor Data  \n",
       "57  Wearable Sensor Data  \n",
       "58  Wearable Sensor Data  \n",
       "59  Wearable Sensor Data  \n",
       "60  Wearable Sensor Data  \n",
       "61  Wearable Sensor Data  \n",
       "62  Wearable Sensor Data  \n",
       "63  Wearable Sensor Data  \n",
       "64  Wearable Sensor Data  \n",
       "65  Wearable Sensor Data  \n",
       "66  Wearable Sensor Data  \n",
       "67  Wearable Sensor Data  \n",
       "68  Wearable Sensor Data  \n",
       "69  Wearable Sensor Data  \n",
       "70  Wearable Sensor Data  \n",
       "71  Wearable Sensor Data  \n",
       "72  Wearable Sensor Data  \n",
       "73  Wearable Sensor Data  \n",
       "74  Wearable Sensor Data  \n",
       "75  Wearable Sensor Data  \n",
       "76  Wearable Sensor Data  \n",
       "77  Wearable Sensor Data  "
      ]
     },
     "execution_count": 37,
     "metadata": {},
     "output_type": "execute_result"
    }
   ],
   "source": [
    "df_data"
   ]
  },
  {
   "cell_type": "code",
   "execution_count": 38,
   "metadata": {},
   "outputs": [
    {
     "data": {
      "text/plain": [
       "Index(['Perfomance Matrix', 'Sit On Bed', 'Sit on Chair', 'Lying',\n",
       "       'Ambulating', 'micro avg', 'macro avg', 'weighted avg', 'Model1',\n",
       "       'Data Type'],\n",
       "      dtype='object')"
      ]
     },
     "execution_count": 38,
     "metadata": {},
     "output_type": "execute_result"
    }
   ],
   "source": [
    "df_data.columns"
   ]
  },
  {
   "cell_type": "code",
   "execution_count": 39,
   "metadata": {},
   "outputs": [],
   "source": [
    "## plot Graph for record count for each Activity Label \n",
    "Temp = df_data[df_data['Perfomance Matrix'] == 'f1-score']\n",
    "Temp=Temp.sort_values(by=['Ambulating'])"
   ]
  },
  {
   "cell_type": "code",
   "execution_count": 40,
   "metadata": {},
   "outputs": [],
   "source": [
    "Temp=Temp[['Perfomance Matrix', 'Sit On Bed', 'Sit on Chair', 'Lying',\n",
    "       'Ambulating', 'Model1']]\n",
    "\n",
    "\n",
    "#Temp['Overdose'].round(decimals=2)"
   ]
  },
  {
   "cell_type": "code",
   "execution_count": 41,
   "metadata": {},
   "outputs": [
    {
     "data": {
      "text/html": [
       "<div>\n",
       "<style scoped>\n",
       "    .dataframe tbody tr th:only-of-type {\n",
       "        vertical-align: middle;\n",
       "    }\n",
       "\n",
       "    .dataframe tbody tr th {\n",
       "        vertical-align: top;\n",
       "    }\n",
       "\n",
       "    .dataframe thead th {\n",
       "        text-align: right;\n",
       "    }\n",
       "</style>\n",
       "<table border=\"1\" class=\"dataframe\">\n",
       "  <thead>\n",
       "    <tr style=\"text-align: right;\">\n",
       "      <th></th>\n",
       "      <th>Perfomance Matrix</th>\n",
       "      <th>Sit On Bed</th>\n",
       "      <th>Sit on Chair</th>\n",
       "      <th>Lying</th>\n",
       "      <th>Ambulating</th>\n",
       "      <th>Model1</th>\n",
       "    </tr>\n",
       "  </thead>\n",
       "  <tbody>\n",
       "    <tr>\n",
       "      <th>65</th>\n",
       "      <td>f1-score</td>\n",
       "      <td>0.80</td>\n",
       "      <td>0.00</td>\n",
       "      <td>0.98</td>\n",
       "      <td>0.00</td>\n",
       "      <td>SVM Classifier</td>\n",
       "    </tr>\n",
       "    <tr>\n",
       "      <th>52</th>\n",
       "      <td>f1-score</td>\n",
       "      <td>0.85</td>\n",
       "      <td>0.53</td>\n",
       "      <td>0.99</td>\n",
       "      <td>0.25</td>\n",
       "      <td>GBM Classification</td>\n",
       "    </tr>\n",
       "    <tr>\n",
       "      <th>26</th>\n",
       "      <td>f1-score</td>\n",
       "      <td>0.85</td>\n",
       "      <td>0.44</td>\n",
       "      <td>0.99</td>\n",
       "      <td>0.46</td>\n",
       "      <td>DNN Classifier</td>\n",
       "    </tr>\n",
       "    <tr>\n",
       "      <th>0</th>\n",
       "      <td>f1-score</td>\n",
       "      <td>0.85</td>\n",
       "      <td>0.44</td>\n",
       "      <td>1.00</td>\n",
       "      <td>0.52</td>\n",
       "      <td>Logistics Regression</td>\n",
       "    </tr>\n",
       "    <tr>\n",
       "      <th>39</th>\n",
       "      <td>f1-score</td>\n",
       "      <td>0.90</td>\n",
       "      <td>0.87</td>\n",
       "      <td>0.97</td>\n",
       "      <td>0.79</td>\n",
       "      <td>KNN Classifier</td>\n",
       "    </tr>\n",
       "    <tr>\n",
       "      <th>13</th>\n",
       "      <td>f1-score</td>\n",
       "      <td>0.99</td>\n",
       "      <td>0.98</td>\n",
       "      <td>1.00</td>\n",
       "      <td>0.88</td>\n",
       "      <td>Random Forest</td>\n",
       "    </tr>\n",
       "  </tbody>\n",
       "</table>\n",
       "</div>"
      ],
      "text/plain": [
       "   Perfomance Matrix  Sit On Bed  Sit on Chair  Lying  Ambulating  \\\n",
       "65          f1-score        0.80          0.00   0.98        0.00   \n",
       "52          f1-score        0.85          0.53   0.99        0.25   \n",
       "26          f1-score        0.85          0.44   0.99        0.46   \n",
       "0           f1-score        0.85          0.44   1.00        0.52   \n",
       "39          f1-score        0.90          0.87   0.97        0.79   \n",
       "13          f1-score        0.99          0.98   1.00        0.88   \n",
       "\n",
       "                  Model1  \n",
       "65        SVM Classifier  \n",
       "52    GBM Classification  \n",
       "26        DNN Classifier  \n",
       "0   Logistics Regression  \n",
       "39        KNN Classifier  \n",
       "13         Random Forest  "
      ]
     },
     "execution_count": 41,
     "metadata": {},
     "output_type": "execute_result"
    }
   ],
   "source": [
    "Temp"
   ]
  },
  {
   "cell_type": "code",
   "execution_count": 42,
   "metadata": {},
   "outputs": [
    {
     "data": {
      "text/plain": [
       "[Text(0, 0.5, 'F-Score'), Text(0.5, 0, 'Model-Name')]"
      ]
     },
     "execution_count": 42,
     "metadata": {},
     "output_type": "execute_result"
    },
    {
     "data": {
      "text/plain": [
       "Text(0, 10, '0.8')"
      ]
     },
     "execution_count": 42,
     "metadata": {},
     "output_type": "execute_result"
    },
    {
     "data": {
      "text/plain": [
       "Text(0, 10, '0.85')"
      ]
     },
     "execution_count": 42,
     "metadata": {},
     "output_type": "execute_result"
    },
    {
     "data": {
      "text/plain": [
       "Text(0, 10, '0.85')"
      ]
     },
     "execution_count": 42,
     "metadata": {},
     "output_type": "execute_result"
    },
    {
     "data": {
      "text/plain": [
       "Text(0, 10, '0.85')"
      ]
     },
     "execution_count": 42,
     "metadata": {},
     "output_type": "execute_result"
    },
    {
     "data": {
      "text/plain": [
       "Text(0, 10, '0.9')"
      ]
     },
     "execution_count": 42,
     "metadata": {},
     "output_type": "execute_result"
    },
    {
     "data": {
      "text/plain": [
       "Text(0, 10, '0.99')"
      ]
     },
     "execution_count": 42,
     "metadata": {},
     "output_type": "execute_result"
    },
    {
     "data": {
      "text/plain": [
       "Text(0, 10, '0.0')"
      ]
     },
     "execution_count": 42,
     "metadata": {},
     "output_type": "execute_result"
    },
    {
     "data": {
      "text/plain": [
       "Text(0, 10, '0.53')"
      ]
     },
     "execution_count": 42,
     "metadata": {},
     "output_type": "execute_result"
    },
    {
     "data": {
      "text/plain": [
       "Text(0, 10, '0.44')"
      ]
     },
     "execution_count": 42,
     "metadata": {},
     "output_type": "execute_result"
    },
    {
     "data": {
      "text/plain": [
       "Text(0, 10, '0.44')"
      ]
     },
     "execution_count": 42,
     "metadata": {},
     "output_type": "execute_result"
    },
    {
     "data": {
      "text/plain": [
       "Text(0, 10, '0.87')"
      ]
     },
     "execution_count": 42,
     "metadata": {},
     "output_type": "execute_result"
    },
    {
     "data": {
      "text/plain": [
       "Text(0, 10, '0.98')"
      ]
     },
     "execution_count": 42,
     "metadata": {},
     "output_type": "execute_result"
    },
    {
     "data": {
      "text/plain": [
       "Text(0, 10, '0.98')"
      ]
     },
     "execution_count": 42,
     "metadata": {},
     "output_type": "execute_result"
    },
    {
     "data": {
      "text/plain": [
       "Text(0, 10, '0.99')"
      ]
     },
     "execution_count": 42,
     "metadata": {},
     "output_type": "execute_result"
    },
    {
     "data": {
      "text/plain": [
       "Text(0, 10, '0.99')"
      ]
     },
     "execution_count": 42,
     "metadata": {},
     "output_type": "execute_result"
    },
    {
     "data": {
      "text/plain": [
       "Text(0, 10, '1.0')"
      ]
     },
     "execution_count": 42,
     "metadata": {},
     "output_type": "execute_result"
    },
    {
     "data": {
      "text/plain": [
       "Text(0, 10, '0.97')"
      ]
     },
     "execution_count": 42,
     "metadata": {},
     "output_type": "execute_result"
    },
    {
     "data": {
      "text/plain": [
       "Text(0, 10, '1.0')"
      ]
     },
     "execution_count": 42,
     "metadata": {},
     "output_type": "execute_result"
    },
    {
     "data": {
      "text/plain": [
       "Text(0, 10, '0.0')"
      ]
     },
     "execution_count": 42,
     "metadata": {},
     "output_type": "execute_result"
    },
    {
     "data": {
      "text/plain": [
       "Text(0, 10, '0.25')"
      ]
     },
     "execution_count": 42,
     "metadata": {},
     "output_type": "execute_result"
    },
    {
     "data": {
      "text/plain": [
       "Text(0, 10, '0.46')"
      ]
     },
     "execution_count": 42,
     "metadata": {},
     "output_type": "execute_result"
    },
    {
     "data": {
      "text/plain": [
       "Text(0, 10, '0.52')"
      ]
     },
     "execution_count": 42,
     "metadata": {},
     "output_type": "execute_result"
    },
    {
     "data": {
      "text/plain": [
       "Text(0, 10, '0.79')"
      ]
     },
     "execution_count": 42,
     "metadata": {},
     "output_type": "execute_result"
    },
    {
     "data": {
      "text/plain": [
       "Text(0, 10, '0.88')"
      ]
     },
     "execution_count": 42,
     "metadata": {},
     "output_type": "execute_result"
    },
    {
     "data": {
      "text/plain": [
       "(array([0, 1, 2, 3, 4, 5]), <a list of 6 Text xticklabel objects>)"
      ]
     },
     "execution_count": 42,
     "metadata": {},
     "output_type": "execute_result"
    },
    {
     "data": {
      "image/png": "[encoded data removed]",
      "text/plain": [
       "<Figure size 1080x1080 with 1 Axes>"
      ]
     },
     "metadata": {
      "needs_background": "light"
     },
     "output_type": "display_data"
    }
   ],
   "source": [
    "## plot Graph for record count for each Activity Label \n",
    "\n",
    "    \n",
    "## plot Graph for record count for each Activity Label \n",
    "\n",
    "    \n",
    "ab = Temp\n",
    "#fig=plt.figure(figsize=(25,25))\n",
    "#ax=plt.legend(bbox_to_anchor=(0.1, 1.0, 1., .102),loc=10, ncol=4,  #left, bottom, width, height\n",
    "#               )                 \n",
    "#ax.get_title().set_fontsize('20')\n",
    "ax = ab.plot(x='Model1', y=['Sit On Bed', 'Sit on Chair', 'Lying','Ambulating'], kind=\"bar\",figsize=(15,15) )\n",
    "ax.set(xlabel = 'Model-Name', ylabel = 'F-Score')\n",
    "ax.grid(True)\n",
    "for p in ax.patches:\n",
    "     ax.annotate(f\"{p.get_height() }\", (p.get_x() + p.get_width() / 2., p.get_height()),\n",
    "         ha='center', va='center', fontsize=11, color='blue', rotation=0, xytext=(0, 10),\n",
    "         textcoords='offset points') \n",
    "plt.xticks(rotation=0)\n",
    "\n",
    "plt.savefig(\"Result_graph/F-score comparison Data.PNG\")\n",
    "\n",
    "\n"
   ]
  },
  {
   "cell_type": "code",
   "execution_count": 43,
   "metadata": {},
   "outputs": [],
   "source": [
    "\n",
    "## plot Graph for record count for each Activity Label \n",
    "Temp = df_data[df_data['Perfomance Matrix'] == 'precision']\n",
    "Temp=Temp.sort_values(by=['Ambulating'])\n"
   ]
  },
  {
   "cell_type": "code",
   "execution_count": 44,
   "metadata": {},
   "outputs": [],
   "source": [
    "Temp=Temp[['Perfomance Matrix', 'Sit On Bed', 'Sit on Chair', 'Lying',\n",
    "       'Ambulating', 'Model1']]"
   ]
  },
  {
   "cell_type": "code",
   "execution_count": 45,
   "metadata": {},
   "outputs": [
    {
     "data": {
      "text/plain": [
       "[Text(0, 0.5, 'Precision'), Text(0.5, 0, 'Model-Name')]"
      ]
     },
     "execution_count": 45,
     "metadata": {},
     "output_type": "execute_result"
    },
    {
     "data": {
      "text/plain": [
       "Text(0, 10, '0.71')"
      ]
     },
     "execution_count": 45,
     "metadata": {},
     "output_type": "execute_result"
    },
    {
     "data": {
      "text/plain": [
       "Text(0, 10, '0.76')"
      ]
     },
     "execution_count": 45,
     "metadata": {},
     "output_type": "execute_result"
    },
    {
     "data": {
      "text/plain": [
       "Text(0, 10, '0.91')"
      ]
     },
     "execution_count": 45,
     "metadata": {},
     "output_type": "execute_result"
    },
    {
     "data": {
      "text/plain": [
       "Text(0, 10, '0.77')"
      ]
     },
     "execution_count": 45,
     "metadata": {},
     "output_type": "execute_result"
    },
    {
     "data": {
      "text/plain": [
       "Text(0, 10, '0.78')"
      ]
     },
     "execution_count": 45,
     "metadata": {},
     "output_type": "execute_result"
    },
    {
     "data": {
      "text/plain": [
       "Text(0, 10, '0.98')"
      ]
     },
     "execution_count": 45,
     "metadata": {},
     "output_type": "execute_result"
    },
    {
     "data": {
      "text/plain": [
       "Text(0, 10, '0.0')"
      ]
     },
     "execution_count": 45,
     "metadata": {},
     "output_type": "execute_result"
    },
    {
     "data": {
      "text/plain": [
       "Text(0, 10, '0.84')"
      ]
     },
     "execution_count": 45,
     "metadata": {},
     "output_type": "execute_result"
    },
    {
     "data": {
      "text/plain": [
       "Text(0, 10, '0.88')"
      ]
     },
     "execution_count": 45,
     "metadata": {},
     "output_type": "execute_result"
    },
    {
     "data": {
      "text/plain": [
       "Text(0, 10, '0.87')"
      ]
     },
     "execution_count": 45,
     "metadata": {},
     "output_type": "execute_result"
    },
    {
     "data": {
      "text/plain": [
       "Text(0, 10, '0.72')"
      ]
     },
     "execution_count": 45,
     "metadata": {},
     "output_type": "execute_result"
    },
    {
     "data": {
      "text/plain": [
       "Text(0, 10, '0.97')"
      ]
     },
     "execution_count": 45,
     "metadata": {},
     "output_type": "execute_result"
    },
    {
     "data": {
      "text/plain": [
       "Text(0, 10, '0.96')"
      ]
     },
     "execution_count": 45,
     "metadata": {},
     "output_type": "execute_result"
    },
    {
     "data": {
      "text/plain": [
       "Text(0, 10, '0.99')"
      ]
     },
     "execution_count": 45,
     "metadata": {},
     "output_type": "execute_result"
    },
    {
     "data": {
      "text/plain": [
       "Text(0, 10, '0.96')"
      ]
     },
     "execution_count": 45,
     "metadata": {},
     "output_type": "execute_result"
    },
    {
     "data": {
      "text/plain": [
       "Text(0, 10, '0.98')"
      ]
     },
     "execution_count": 45,
     "metadata": {},
     "output_type": "execute_result"
    },
    {
     "data": {
      "text/plain": [
       "Text(0, 10, '0.99')"
      ]
     },
     "execution_count": 45,
     "metadata": {},
     "output_type": "execute_result"
    },
    {
     "data": {
      "text/plain": [
       "Text(0, 10, '1.0')"
      ]
     },
     "execution_count": 45,
     "metadata": {},
     "output_type": "execute_result"
    },
    {
     "data": {
      "text/plain": [
       "Text(0, 10, '0.0')"
      ]
     },
     "execution_count": 45,
     "metadata": {},
     "output_type": "execute_result"
    },
    {
     "data": {
      "text/plain": [
       "Text(0, 10, '0.59')"
      ]
     },
     "execution_count": 45,
     "metadata": {},
     "output_type": "execute_result"
    },
    {
     "data": {
      "text/plain": [
       "Text(0, 10, '0.85')"
      ]
     },
     "execution_count": 45,
     "metadata": {},
     "output_type": "execute_result"
    },
    {
     "data": {
      "text/plain": [
       "Text(0, 10, '0.9')"
      ]
     },
     "execution_count": 45,
     "metadata": {},
     "output_type": "execute_result"
    },
    {
     "data": {
      "text/plain": [
       "Text(0, 10, '0.94')"
      ]
     },
     "execution_count": 45,
     "metadata": {},
     "output_type": "execute_result"
    },
    {
     "data": {
      "text/plain": [
       "Text(0, 10, '0.95')"
      ]
     },
     "execution_count": 45,
     "metadata": {},
     "output_type": "execute_result"
    },
    {
     "data": {
      "text/plain": [
       "(array([0, 1, 2, 3, 4, 5]), <a list of 6 Text xticklabel objects>)"
      ]
     },
     "execution_count": 45,
     "metadata": {},
     "output_type": "execute_result"
    },
    {
     "data": {
      "image/png": "[encoded data removed]",
      "text/plain": [
       "<Figure size 1080x1080 with 1 Axes>"
      ]
     },
     "metadata": {
      "needs_background": "light"
     },
     "output_type": "display_data"
    }
   ],
   "source": [
    "## plot Graph for record count for each Activity Label \n",
    "\n",
    "    \n",
    "## plot Graph for record count for each Activity Label \n",
    "\n",
    "    \n",
    "ab = Temp\n",
    "#fig=plt.figure(figsize=(25,25))\n",
    "#ax=plt.legend(bbox_to_anchor=(0.1, 1.0, 1., .102),loc=10, ncol=4,  #left, bottom, width, height\n",
    "#               )                 \n",
    "#ax.get_title().set_fontsize('20')\n",
    "ax = ab.plot(x='Model1', y=['Sit On Bed', 'Sit on Chair', 'Lying','Ambulating'], kind=\"bar\",figsize=(15,15) )\n",
    "ax.set(xlabel = 'Model-Name', ylabel = 'Precision')\n",
    "ax.grid(True)\n",
    "for p in ax.patches:\n",
    "     ax.annotate(f\"{p.get_height() }\", (p.get_x() + p.get_width() / 2., p.get_height()),\n",
    "         ha='center', va='center', fontsize=11, color='blue', rotation=0, xytext=(0, 10),\n",
    "         textcoords='offset points') \n",
    "plt.xticks(rotation=0)\n",
    "\n",
    "plt.savefig(\"Result_graph/Precision comparison Data.PNG\")\n",
    "\n",
    "\n",
    "\n",
    "\n",
    "\n",
    "\n"
   ]
  },
  {
   "cell_type": "code",
   "execution_count": null,
   "metadata": {},
   "outputs": [],
   "source": []
  },
  {
   "cell_type": "code",
   "execution_count": 46,
   "metadata": {},
   "outputs": [],
   "source": [
    "\n",
    "## plot Graph for record count for each Activity Label \n",
    "Temp = df_data[df_data['Perfomance Matrix'] == 'recall']\n",
    "Temp=Temp.sort_values(by=['Ambulating'])\n"
   ]
  },
  {
   "cell_type": "code",
   "execution_count": 47,
   "metadata": {},
   "outputs": [],
   "source": [
    "Temp=Temp[['Perfomance Matrix', 'Sit On Bed', 'Sit on Chair', 'Lying',\n",
    "       'Ambulating', 'Model1']]"
   ]
  },
  {
   "cell_type": "code",
   "execution_count": 48,
   "metadata": {},
   "outputs": [
    {
     "data": {
      "text/plain": [
       "[Text(0, 0.5, 'recall'), Text(0.5, 0, 'Model-Name')]"
      ]
     },
     "execution_count": 48,
     "metadata": {},
     "output_type": "execute_result"
    },
    {
     "data": {
      "text/plain": [
       "Text(0, 10, '0.92')"
      ]
     },
     "execution_count": 48,
     "metadata": {},
     "output_type": "execute_result"
    },
    {
     "data": {
      "text/plain": [
       "Text(0, 10, '0.95')"
      ]
     },
     "execution_count": 48,
     "metadata": {},
     "output_type": "execute_result"
    },
    {
     "data": {
      "text/plain": [
       "Text(0, 10, '0.95')"
      ]
     },
     "execution_count": 48,
     "metadata": {},
     "output_type": "execute_result"
    },
    {
     "data": {
      "text/plain": [
       "Text(0, 10, '0.96')"
      ]
     },
     "execution_count": 48,
     "metadata": {},
     "output_type": "execute_result"
    },
    {
     "data": {
      "text/plain": [
       "Text(0, 10, '0.88')"
      ]
     },
     "execution_count": 48,
     "metadata": {},
     "output_type": "execute_result"
    },
    {
     "data": {
      "text/plain": [
       "Text(0, 10, '0.99')"
      ]
     },
     "execution_count": 48,
     "metadata": {},
     "output_type": "execute_result"
    },
    {
     "data": {
      "text/plain": [
       "Text(0, 10, '0.0')"
      ]
     },
     "execution_count": 48,
     "metadata": {},
     "output_type": "execute_result"
    },
    {
     "data": {
      "text/plain": [
       "Text(0, 10, '0.38')"
      ]
     },
     "execution_count": 48,
     "metadata": {},
     "output_type": "execute_result"
    },
    {
     "data": {
      "text/plain": [
       "Text(0, 10, '0.32')"
      ]
     },
     "execution_count": 48,
     "metadata": {},
     "output_type": "execute_result"
    },
    {
     "data": {
      "text/plain": [
       "Text(0, 10, '0.29')"
      ]
     },
     "execution_count": 48,
     "metadata": {},
     "output_type": "execute_result"
    },
    {
     "data": {
      "text/plain": [
       "Text(0, 10, '0.87')"
      ]
     },
     "execution_count": 48,
     "metadata": {},
     "output_type": "execute_result"
    },
    {
     "data": {
      "text/plain": [
       "Text(0, 10, '0.99')"
      ]
     },
     "execution_count": 48,
     "metadata": {},
     "output_type": "execute_result"
    },
    {
     "data": {
      "text/plain": [
       "Text(0, 10, '1.0')"
      ]
     },
     "execution_count": 48,
     "metadata": {},
     "output_type": "execute_result"
    },
    {
     "data": {
      "text/plain": [
       "Text(0, 10, '1.0')"
      ]
     },
     "execution_count": 48,
     "metadata": {},
     "output_type": "execute_result"
    },
    {
     "data": {
      "text/plain": [
       "Text(0, 10, '1.0')"
      ]
     },
     "execution_count": 48,
     "metadata": {},
     "output_type": "execute_result"
    },
    {
     "data": {
      "text/plain": [
       "Text(0, 10, '0.99')"
      ]
     },
     "execution_count": 48,
     "metadata": {},
     "output_type": "execute_result"
    },
    {
     "data": {
      "text/plain": [
       "Text(0, 10, '0.98')"
      ]
     },
     "execution_count": 48,
     "metadata": {},
     "output_type": "execute_result"
    },
    {
     "data": {
      "text/plain": [
       "Text(0, 10, '1.0')"
      ]
     },
     "execution_count": 48,
     "metadata": {},
     "output_type": "execute_result"
    },
    {
     "data": {
      "text/plain": [
       "Text(0, 10, '0.0')"
      ]
     },
     "execution_count": 48,
     "metadata": {},
     "output_type": "execute_result"
    },
    {
     "data": {
      "text/plain": [
       "Text(0, 10, '0.14')"
      ]
     },
     "execution_count": 48,
     "metadata": {},
     "output_type": "execute_result"
    },
    {
     "data": {
      "text/plain": [
       "Text(0, 10, '0.36')"
      ]
     },
     "execution_count": 48,
     "metadata": {},
     "output_type": "execute_result"
    },
    {
     "data": {
      "text/plain": [
       "Text(0, 10, '0.38')"
      ]
     },
     "execution_count": 48,
     "metadata": {},
     "output_type": "execute_result"
    },
    {
     "data": {
      "text/plain": [
       "Text(0, 10, '0.75')"
      ]
     },
     "execution_count": 48,
     "metadata": {},
     "output_type": "execute_result"
    },
    {
     "data": {
      "text/plain": [
       "Text(0, 10, '0.82')"
      ]
     },
     "execution_count": 48,
     "metadata": {},
     "output_type": "execute_result"
    },
    {
     "data": {
      "text/plain": [
       "(array([0, 1, 2, 3, 4, 5]), <a list of 6 Text xticklabel objects>)"
      ]
     },
     "execution_count": 48,
     "metadata": {},
     "output_type": "execute_result"
    },
    {
     "data": {
      "text/plain": [
       "<Figure size 1800x1800 with 0 Axes>"
      ]
     },
     "metadata": {},
     "output_type": "display_data"
    },
    {
     "data": {
      "image/png": "[encoded data removed]",
      "text/plain": [
       "<Figure size 1080x1080 with 1 Axes>"
      ]
     },
     "metadata": {
      "needs_background": "light"
     },
     "output_type": "display_data"
    }
   ],
   "source": [
    "## plot Graph for record count for each Activity Label \n",
    "\n",
    "    \n",
    "## plot Graph for record count for each Activity Label \n",
    "\n",
    "    \n",
    "ab = Temp\n",
    "fig=plt.figure(figsize=(25,25))\n",
    "#ax=plt.legend(bbox_to_anchor=(0.1, 1.0, 1., .102),loc=10, ncol=4,  #left, bottom, width, height\n",
    "#               )                 \n",
    "#ax.get_title().set_fontsize('20')\n",
    "ax = ab.plot(x='Model1', y=['Sit On Bed', 'Sit on Chair', 'Lying','Ambulating'], kind=\"bar\" ,figsize=(15,15))\n",
    "ax.set(xlabel = 'Model-Name', ylabel = 'recall')\n",
    "ax.grid(True)\n",
    "for p in ax.patches:\n",
    "     ax.annotate(f\"{p.get_height() }\", (p.get_x() + p.get_width() / 2., p.get_height()),\n",
    "         ha='center', va='center', fontsize=11, color='blue', rotation=0, xytext=(0, 10),\n",
    "         textcoords='offset points') \n",
    "plt.xticks(rotation=0)\n",
    "\n",
    "plt.savefig(\"Result_graph/Recall comparison Data.PNG\")\n",
    "\n",
    "\n",
    "\n",
    "\n"
   ]
  },
  {
   "cell_type": "code",
   "execution_count": 49,
   "metadata": {},
   "outputs": [],
   "source": [
    "## plot Graph for record count for each Activity Label \n",
    "Temp = df_data[(df_data['Perfomance Matrix'] == 'Training Accuracy') |(df_data['Perfomance Matrix'] == 'Test Accuracy')] \n",
    "Temp=Temp.sort_values(by=['macro avg'])"
   ]
  },
  {
   "cell_type": "code",
   "execution_count": 50,
   "metadata": {},
   "outputs": [],
   "source": [
    "Temp=Temp[['macro avg','Model1','Perfomance Matrix']]\n",
    "\n",
    "\n",
    "Temp['macro avg']=Temp['macro avg'].round(decimals=2)"
   ]
  },
  {
   "cell_type": "code",
   "execution_count": 51,
   "metadata": {},
   "outputs": [],
   "source": [
    "Temp['macro avg']=Temp['macro avg'].apply(lambda x:x*100)\n",
    "          \n",
    "#df['quantity'] = df['quantity'].apply(lambda x: x*-1)"
   ]
  },
  {
   "cell_type": "code",
   "execution_count": 52,
   "metadata": {},
   "outputs": [
    {
     "name": "stderr",
     "output_type": "stream",
     "text": [
      "No handles with labels found to put in legend.\n"
     ]
    },
    {
     "data": {
      "text/plain": [
       "[Text(0, 0.5, 'Accuracy'), Text(0.5, 0, 'Model-Name')]"
      ]
     },
     "execution_count": 52,
     "metadata": {},
     "output_type": "execute_result"
    },
    {
     "data": {
      "text/plain": [
       "Text(0, 10, '89.0')"
      ]
     },
     "execution_count": 52,
     "metadata": {},
     "output_type": "execute_result"
    },
    {
     "data": {
      "text/plain": [
       "Text(0, 10, '92.0')"
      ]
     },
     "execution_count": 52,
     "metadata": {},
     "output_type": "execute_result"
    },
    {
     "data": {
      "text/plain": [
       "Text(0, 10, 'nan')"
      ]
     },
     "execution_count": 52,
     "metadata": {},
     "output_type": "execute_result"
    },
    {
     "data": {
      "text/plain": [
       "Text(0, 10, '92.0')"
      ]
     },
     "execution_count": 52,
     "metadata": {},
     "output_type": "execute_result"
    },
    {
     "data": {
      "text/plain": [
       "Text(0, 10, '100.0')"
      ]
     },
     "execution_count": 52,
     "metadata": {},
     "output_type": "execute_result"
    },
    {
     "data": {
      "text/plain": [
       "Text(0, 10, '100.0')"
      ]
     },
     "execution_count": 52,
     "metadata": {},
     "output_type": "execute_result"
    },
    {
     "data": {
      "text/plain": [
       "Text(0, 10, '89.0')"
      ]
     },
     "execution_count": 52,
     "metadata": {},
     "output_type": "execute_result"
    },
    {
     "data": {
      "text/plain": [
       "Text(0, 10, '93.0')"
      ]
     },
     "execution_count": 52,
     "metadata": {},
     "output_type": "execute_result"
    },
    {
     "data": {
      "text/plain": [
       "Text(0, 10, '92.0')"
      ]
     },
     "execution_count": 52,
     "metadata": {},
     "output_type": "execute_result"
    },
    {
     "data": {
      "text/plain": [
       "Text(0, 10, '92.0')"
      ]
     },
     "execution_count": 52,
     "metadata": {},
     "output_type": "execute_result"
    },
    {
     "data": {
      "text/plain": [
       "Text(0, 10, '94.0')"
      ]
     },
     "execution_count": 52,
     "metadata": {},
     "output_type": "execute_result"
    },
    {
     "data": {
      "text/plain": [
       "Text(0, 10, '99.0')"
      ]
     },
     "execution_count": 52,
     "metadata": {},
     "output_type": "execute_result"
    },
    {
     "data": {
      "image/png": "[encoded data removed]",
      "text/plain": [
       "<Figure size 864x864 with 1 Axes>"
      ]
     },
     "metadata": {
      "needs_background": "light"
     },
     "output_type": "display_data"
    }
   ],
   "source": [
    "## plot Graph for record count for each Activity Label \n",
    "\n",
    "    \n",
    "ab = Temp\n",
    "fig=plt.figure(figsize=(12,12))\n",
    "ax=plt.legend(bbox_to_anchor=(0.1, 1.0, 1., .102),loc=10, ncol=4,  #left, bottom, width, height\n",
    "               )                 \n",
    "ax.get_title().set_fontsize('20')\n",
    "ax = sns.barplot(x='Model1', y='macro avg', hue=\"Perfomance Matrix\", data=ab )\n",
    "ax.set(xlabel = 'Model-Name', ylabel = 'Accuracy')\n",
    "ax.grid(True)\n",
    "for p in ax.patches:\n",
    "     ax.annotate(f\"{p.get_height() }\", (p.get_x() + p.get_width() / 2., p.get_height()),\n",
    "         ha='center', va='center', fontsize=11, color='blue', rotation=0, xytext=(0, 10),\n",
    "         textcoords='offset points') \n",
    "\n",
    "#fig.savefig(\"Accuracy comparison Data.PNG\")\n",
    "#fig.savefig(\"Accuracy comparison Data.PNG\")\n",
    "fig.savefig(\"Result_graph/Accuracy comparison Data.PNG\")\n",
    "\n",
    "\n"
   ]
  },
  {
   "cell_type": "code",
   "execution_count": 53,
   "metadata": {},
   "outputs": [
    {
     "data": {
      "text/plain": [
       "Index(['Perfomance Matrix', 'Sit On Bed', 'Sit on Chair', 'Lying',\n",
       "       'Ambulating', 'micro avg', 'macro avg', 'weighted avg', 'Model1',\n",
       "       'Data Type'],\n",
       "      dtype='object')"
      ]
     },
     "execution_count": 53,
     "metadata": {},
     "output_type": "execute_result"
    }
   ],
   "source": [
    "df_data.columns"
   ]
  },
  {
   "cell_type": "code",
   "execution_count": 54,
   "metadata": {},
   "outputs": [],
   "source": [
    "## plot Graph for record count for each Activity Label \n",
    "Temp = df_data[df_data['Perfomance Matrix'] == 'Model_Time']\n",
    "Temp=Temp.sort_values(by=['macro avg'])"
   ]
  },
  {
   "cell_type": "code",
   "execution_count": 55,
   "metadata": {},
   "outputs": [
    {
     "data": {
      "text/html": [
       "<div>\n",
       "<style scoped>\n",
       "    .dataframe tbody tr th:only-of-type {\n",
       "        vertical-align: middle;\n",
       "    }\n",
       "\n",
       "    .dataframe tbody tr th {\n",
       "        vertical-align: top;\n",
       "    }\n",
       "\n",
       "    .dataframe thead th {\n",
       "        text-align: right;\n",
       "    }\n",
       "</style>\n",
       "<table border=\"1\" class=\"dataframe\">\n",
       "  <thead>\n",
       "    <tr style=\"text-align: right;\">\n",
       "      <th></th>\n",
       "      <th>macro avg</th>\n",
       "      <th>Model1</th>\n",
       "      <th>Perfomance Matrix</th>\n",
       "    </tr>\n",
       "  </thead>\n",
       "  <tbody>\n",
       "    <tr>\n",
       "      <th>19</th>\n",
       "      <td>2.27</td>\n",
       "      <td>Random Forest</td>\n",
       "      <td>Model_Time</td>\n",
       "    </tr>\n",
       "    <tr>\n",
       "      <th>58</th>\n",
       "      <td>2.51</td>\n",
       "      <td>GBM Classification</td>\n",
       "      <td>Model_Time</td>\n",
       "    </tr>\n",
       "    <tr>\n",
       "      <th>45</th>\n",
       "      <td>5.41</td>\n",
       "      <td>KNN Classifier</td>\n",
       "      <td>Model_Time</td>\n",
       "    </tr>\n",
       "    <tr>\n",
       "      <th>6</th>\n",
       "      <td>82.63</td>\n",
       "      <td>Logistics Regression</td>\n",
       "      <td>Model_Time</td>\n",
       "    </tr>\n",
       "    <tr>\n",
       "      <th>32</th>\n",
       "      <td>86.50</td>\n",
       "      <td>DNN Classifier</td>\n",
       "      <td>Model_Time</td>\n",
       "    </tr>\n",
       "    <tr>\n",
       "      <th>71</th>\n",
       "      <td>1267.29</td>\n",
       "      <td>SVM Classifier</td>\n",
       "      <td>Model_Time</td>\n",
       "    </tr>\n",
       "  </tbody>\n",
       "</table>\n",
       "</div>"
      ],
      "text/plain": [
       "    macro avg                Model1 Perfomance Matrix\n",
       "19       2.27         Random Forest        Model_Time\n",
       "58       2.51    GBM Classification        Model_Time\n",
       "45       5.41        KNN Classifier        Model_Time\n",
       "6       82.63  Logistics Regression        Model_Time\n",
       "32      86.50        DNN Classifier        Model_Time\n",
       "71    1267.29        SVM Classifier        Model_Time"
      ]
     },
     "execution_count": 55,
     "metadata": {},
     "output_type": "execute_result"
    }
   ],
   "source": [
    "Temp=Temp[['macro avg','Model1','Perfomance Matrix']]\n",
    "\n",
    "\n",
    "Temp['macro avg']=Temp['macro avg'].round(decimals=2)\n",
    "\n",
    "Temp"
   ]
  },
  {
   "cell_type": "code",
   "execution_count": 56,
   "metadata": {},
   "outputs": [
    {
     "name": "stderr",
     "output_type": "stream",
     "text": [
      "No handles with labels found to put in legend.\n"
     ]
    },
    {
     "data": {
      "text/plain": [
       "[Text(0, 0.5, 'Model_Time in ms'), Text(0.5, 0, 'Model-Name')]"
      ]
     },
     "execution_count": 56,
     "metadata": {},
     "output_type": "execute_result"
    },
    {
     "data": {
      "text/plain": [
       "Text(0, 10, '2.27')"
      ]
     },
     "execution_count": 56,
     "metadata": {},
     "output_type": "execute_result"
    },
    {
     "data": {
      "text/plain": [
       "Text(0, 10, '2.51')"
      ]
     },
     "execution_count": 56,
     "metadata": {},
     "output_type": "execute_result"
    },
    {
     "data": {
      "text/plain": [
       "Text(0, 10, '5.41')"
      ]
     },
     "execution_count": 56,
     "metadata": {},
     "output_type": "execute_result"
    },
    {
     "data": {
      "text/plain": [
       "Text(0, 10, '82.63')"
      ]
     },
     "execution_count": 56,
     "metadata": {},
     "output_type": "execute_result"
    },
    {
     "data": {
      "text/plain": [
       "Text(0, 10, '86.5')"
      ]
     },
     "execution_count": 56,
     "metadata": {},
     "output_type": "execute_result"
    },
    {
     "data": {
      "text/plain": [
       "Text(0, 10, '1267.29')"
      ]
     },
     "execution_count": 56,
     "metadata": {},
     "output_type": "execute_result"
    },
    {
     "data": {
      "image/png": "[encoded data removed]",
      "text/plain": [
       "<Figure size 864x720 with 1 Axes>"
      ]
     },
     "metadata": {
      "needs_background": "light"
     },
     "output_type": "display_data"
    }
   ],
   "source": [
    "## plot Graph for record count for each Activity Label \n",
    "\n",
    "    \n",
    "ab = Temp\n",
    "fig=plt.figure(figsize=(12,10))\n",
    "ax=plt.legend(bbox_to_anchor=(0.1, 1.0, 1., .102),loc=10, ncol=4,  #left, bottom, width, height\n",
    "               )                 \n",
    "ax.get_title().set_fontsize('20')\n",
    "ax = sns.barplot(x='Model1', y='macro avg', data=ab )\n",
    "ax.set(xlabel = 'Model-Name', ylabel = 'Model_Time in ms')\n",
    "ax.grid(True)\n",
    "for p in ax.patches:\n",
    "     ax.annotate(f\"{p.get_height() }\", (p.get_x() + p.get_width() / 2., p.get_height()),\n",
    "         ha='center', va='center', fontsize=11, color='blue', rotation=0, xytext=(0, 10),\n",
    "         textcoords='offset points') \n",
    "\n",
    "#fig.savefig(\"Model time comparison Data.PNG\")\n",
    "#fig.savefig(\"Accuracy comparison Data.PNG\")\n",
    "fig.savefig(\"Result_graph/Model time comparison Data.PNG\")\n",
    "\n"
   ]
  },
  {
   "cell_type": "code",
   "execution_count": 57,
   "metadata": {},
   "outputs": [],
   "source": [
    "\n",
    "## plot Graph for record count for each Activity Label \n",
    "Temp = df_data[df_data['Perfomance Matrix'] == 'Specificity']\n",
    "Temp=Temp.sort_values(by=['Ambulating'])\n"
   ]
  },
  {
   "cell_type": "code",
   "execution_count": 58,
   "metadata": {},
   "outputs": [],
   "source": [
    "Temp=Temp[['Perfomance Matrix', 'Sit On Bed', 'Sit on Chair', 'Lying',\n",
    "       'Ambulating', 'Model1']]"
   ]
  },
  {
   "cell_type": "code",
   "execution_count": 59,
   "metadata": {},
   "outputs": [
    {
     "data": {
      "text/plain": [
       "[Text(0, 0.5, 'Specificity'), Text(0.5, 0, 'Model-Name')]"
      ]
     },
     "execution_count": 59,
     "metadata": {},
     "output_type": "execute_result"
    },
    {
     "data": {
      "text/plain": [
       "Text(0, 10, '0.92')"
      ]
     },
     "execution_count": 59,
     "metadata": {},
     "output_type": "execute_result"
    },
    {
     "data": {
      "text/plain": [
       "Text(0, 10, '0.92')"
      ]
     },
     "execution_count": 59,
     "metadata": {},
     "output_type": "execute_result"
    },
    {
     "data": {
      "text/plain": [
       "Text(0, 10, '0.99')"
      ]
     },
     "execution_count": 59,
     "metadata": {},
     "output_type": "execute_result"
    },
    {
     "data": {
      "text/plain": [
       "Text(0, 10, '0.98')"
      ]
     },
     "execution_count": 59,
     "metadata": {},
     "output_type": "execute_result"
    },
    {
     "data": {
      "text/plain": [
       "Text(0, 10, '0.92')"
      ]
     },
     "execution_count": 59,
     "metadata": {},
     "output_type": "execute_result"
    },
    {
     "data": {
      "text/plain": [
       "Text(0, 10, '0.89')"
      ]
     },
     "execution_count": 59,
     "metadata": {},
     "output_type": "execute_result"
    },
    {
     "data": {
      "text/plain": [
       "Text(0, 10, '1.0')"
      ]
     },
     "execution_count": 59,
     "metadata": {},
     "output_type": "execute_result"
    },
    {
     "data": {
      "text/plain": [
       "Text(0, 10, '0.99')"
      ]
     },
     "execution_count": 59,
     "metadata": {},
     "output_type": "execute_result"
    },
    {
     "data": {
      "text/plain": [
       "Text(0, 10, '1.0')"
      ]
     },
     "execution_count": 59,
     "metadata": {},
     "output_type": "execute_result"
    },
    {
     "data": {
      "text/plain": [
       "Text(0, 10, '0.99')"
      ]
     },
     "execution_count": 59,
     "metadata": {},
     "output_type": "execute_result"
    },
    {
     "data": {
      "text/plain": [
       "Text(0, 10, '1.0')"
      ]
     },
     "execution_count": 59,
     "metadata": {},
     "output_type": "execute_result"
    },
    {
     "data": {
      "text/plain": [
       "Text(0, 10, '1.0')"
      ]
     },
     "execution_count": 59,
     "metadata": {},
     "output_type": "execute_result"
    },
    {
     "data": {
      "text/plain": [
       "Text(0, 10, '0.99')"
      ]
     },
     "execution_count": 59,
     "metadata": {},
     "output_type": "execute_result"
    },
    {
     "data": {
      "text/plain": [
       "Text(0, 10, '0.98')"
      ]
     },
     "execution_count": 59,
     "metadata": {},
     "output_type": "execute_result"
    },
    {
     "data": {
      "text/plain": [
       "Text(0, 10, '1.0')"
      ]
     },
     "execution_count": 59,
     "metadata": {},
     "output_type": "execute_result"
    },
    {
     "data": {
      "text/plain": [
       "Text(0, 10, '0.92')"
      ]
     },
     "execution_count": 59,
     "metadata": {},
     "output_type": "execute_result"
    },
    {
     "data": {
      "text/plain": [
       "Text(0, 10, '0.97')"
      ]
     },
     "execution_count": 59,
     "metadata": {},
     "output_type": "execute_result"
    },
    {
     "data": {
      "text/plain": [
       "Text(0, 10, '0.91')"
      ]
     },
     "execution_count": 59,
     "metadata": {},
     "output_type": "execute_result"
    },
    {
     "data": {
      "text/plain": [
       "Text(0, 10, '0.99')"
      ]
     },
     "execution_count": 59,
     "metadata": {},
     "output_type": "execute_result"
    },
    {
     "data": {
      "text/plain": [
       "Text(0, 10, '1.0')"
      ]
     },
     "execution_count": 59,
     "metadata": {},
     "output_type": "execute_result"
    },
    {
     "data": {
      "text/plain": [
       "Text(0, 10, '1.0')"
      ]
     },
     "execution_count": 59,
     "metadata": {},
     "output_type": "execute_result"
    },
    {
     "data": {
      "text/plain": [
       "Text(0, 10, '1.0')"
      ]
     },
     "execution_count": 59,
     "metadata": {},
     "output_type": "execute_result"
    },
    {
     "data": {
      "text/plain": [
       "Text(0, 10, '1.0')"
      ]
     },
     "execution_count": 59,
     "metadata": {},
     "output_type": "execute_result"
    },
    {
     "data": {
      "text/plain": [
       "Text(0, 10, '1.0')"
      ]
     },
     "execution_count": 59,
     "metadata": {},
     "output_type": "execute_result"
    },
    {
     "data": {
      "text/plain": [
       "(array([0, 1, 2, 3, 4, 5]), <a list of 6 Text xticklabel objects>)"
      ]
     },
     "execution_count": 59,
     "metadata": {},
     "output_type": "execute_result"
    },
    {
     "data": {
      "text/plain": [
       "<Figure size 1800x1800 with 0 Axes>"
      ]
     },
     "metadata": {},
     "output_type": "display_data"
    },
    {
     "data": {
      "image/png": "[encoded data removed]",
      "text/plain": [
       "<Figure size 1080x1080 with 1 Axes>"
      ]
     },
     "metadata": {
      "needs_background": "light"
     },
     "output_type": "display_data"
    }
   ],
   "source": [
    "## plot Graph for record count for each Activity Label \n",
    "\n",
    "    \n",
    "## plot Graph for record count for each Activity Label \n",
    "\n",
    "    \n",
    "ab = Temp\n",
    "fig=plt.figure(figsize=(25,25))\n",
    "#ax=plt.legend(bbox_to_anchor=(0.1, 1.0, 1., .102),loc=10, ncol=4,  #left, bottom, width, height\n",
    "#               )                 \n",
    "#ax.get_title().set_fontsize('20')\n",
    "ax = ab.plot(x='Model1', y=['Sit On Bed', 'Sit on Chair', 'Lying','Ambulating'], kind=\"bar\" ,figsize=(15,15))\n",
    "ax.set(xlabel = 'Model-Name', ylabel = 'Specificity')\n",
    "ax.grid(True)\n",
    "for p in ax.patches:\n",
    "     ax.annotate(f\"{p.get_height() }\", (p.get_x() + p.get_width() / 2., p.get_height()),\n",
    "         ha='center', va='center', fontsize=11, color='blue', rotation=0, xytext=(0, 10),\n",
    "         textcoords='offset points') \n",
    "plt.xticks(rotation=0)\n",
    "\n",
    "plt.savefig(\"Result_graph/Specificity comparison Data.PNG\")\n",
    "\n",
    "\n",
    "\n",
    "\n"
   ]
  },
  {
   "cell_type": "code",
   "execution_count": 60,
   "metadata": {},
   "outputs": [],
   "source": [
    "\n",
    "## plot Graph for record count for each Activity Label \n",
    "Temp = df_data[df_data['Perfomance Matrix'] == 'Negative predictive value']\n",
    "Temp=Temp.sort_values(by=['Ambulating'])\n"
   ]
  },
  {
   "cell_type": "code",
   "execution_count": 61,
   "metadata": {},
   "outputs": [],
   "source": [
    "Temp=Temp[['Perfomance Matrix', 'Sit On Bed', 'Sit on Chair', 'Lying',\n",
    "       'Ambulating', 'Model1']]"
   ]
  },
  {
   "cell_type": "code",
   "execution_count": 62,
   "metadata": {},
   "outputs": [
    {
     "data": {
      "text/plain": [
       "[Text(0, 0.5, 'Negative predictive value'), Text(0.5, 0, 'Model-Name')]"
      ]
     },
     "execution_count": 62,
     "metadata": {},
     "output_type": "execute_result"
    },
    {
     "data": {
      "text/plain": [
       "Text(0, 10, '0.98')"
      ]
     },
     "execution_count": 62,
     "metadata": {},
     "output_type": "execute_result"
    },
    {
     "data": {
      "text/plain": [
       "Text(0, 10, '0.97')"
      ]
     },
     "execution_count": 62,
     "metadata": {},
     "output_type": "execute_result"
    },
    {
     "data": {
      "text/plain": [
       "Text(0, 10, '0.98')"
      ]
     },
     "execution_count": 62,
     "metadata": {},
     "output_type": "execute_result"
    },
    {
     "data": {
      "text/plain": [
       "Text(0, 10, '0.99')"
      ]
     },
     "execution_count": 62,
     "metadata": {},
     "output_type": "execute_result"
    },
    {
     "data": {
      "text/plain": [
       "Text(0, 10, '1.0')"
      ]
     },
     "execution_count": 62,
     "metadata": {},
     "output_type": "execute_result"
    },
    {
     "data": {
      "text/plain": [
       "Text(0, 10, '0.97')"
      ]
     },
     "execution_count": 62,
     "metadata": {},
     "output_type": "execute_result"
    },
    {
     "data": {
      "text/plain": [
       "Text(0, 10, '0.96')"
      ]
     },
     "execution_count": 62,
     "metadata": {},
     "output_type": "execute_result"
    },
    {
     "data": {
      "text/plain": [
       "Text(0, 10, '0.94')"
      ]
     },
     "execution_count": 62,
     "metadata": {},
     "output_type": "execute_result"
    },
    {
     "data": {
      "text/plain": [
       "Text(0, 10, '0.96')"
      ]
     },
     "execution_count": 62,
     "metadata": {},
     "output_type": "execute_result"
    },
    {
     "data": {
      "text/plain": [
       "Text(0, 10, '0.96')"
      ]
     },
     "execution_count": 62,
     "metadata": {},
     "output_type": "execute_result"
    },
    {
     "data": {
      "text/plain": [
       "Text(0, 10, '1.0')"
      ]
     },
     "execution_count": 62,
     "metadata": {},
     "output_type": "execute_result"
    },
    {
     "data": {
      "text/plain": [
       "Text(0, 10, '0.99')"
      ]
     },
     "execution_count": 62,
     "metadata": {},
     "output_type": "execute_result"
    },
    {
     "data": {
      "text/plain": [
       "Text(0, 10, '1.0')"
      ]
     },
     "execution_count": 62,
     "metadata": {},
     "output_type": "execute_result"
    },
    {
     "data": {
      "text/plain": [
       "Text(0, 10, '1.0')"
      ]
     },
     "execution_count": 62,
     "metadata": {},
     "output_type": "execute_result"
    },
    {
     "data": {
      "text/plain": [
       "Text(0, 10, '1.0')"
      ]
     },
     "execution_count": 62,
     "metadata": {},
     "output_type": "execute_result"
    },
    {
     "data": {
      "text/plain": [
       "Text(0, 10, '0.97')"
      ]
     },
     "execution_count": 62,
     "metadata": {},
     "output_type": "execute_result"
    },
    {
     "data": {
      "text/plain": [
       "Text(0, 10, '1.0')"
      ]
     },
     "execution_count": 62,
     "metadata": {},
     "output_type": "execute_result"
    },
    {
     "data": {
      "text/plain": [
       "Text(0, 10, '0.95')"
      ]
     },
     "execution_count": 62,
     "metadata": {},
     "output_type": "execute_result"
    },
    {
     "data": {
      "text/plain": [
       "Text(0, 10, '0.97')"
      ]
     },
     "execution_count": 62,
     "metadata": {},
     "output_type": "execute_result"
    },
    {
     "data": {
      "text/plain": [
       "Text(0, 10, '0.97')"
      ]
     },
     "execution_count": 62,
     "metadata": {},
     "output_type": "execute_result"
    },
    {
     "data": {
      "text/plain": [
       "Text(0, 10, '0.98')"
      ]
     },
     "execution_count": 62,
     "metadata": {},
     "output_type": "execute_result"
    },
    {
     "data": {
      "text/plain": [
       "Text(0, 10, '0.98')"
      ]
     },
     "execution_count": 62,
     "metadata": {},
     "output_type": "execute_result"
    },
    {
     "data": {
      "text/plain": [
       "Text(0, 10, '0.99')"
      ]
     },
     "execution_count": 62,
     "metadata": {},
     "output_type": "execute_result"
    },
    {
     "data": {
      "text/plain": [
       "Text(0, 10, '0.99')"
      ]
     },
     "execution_count": 62,
     "metadata": {},
     "output_type": "execute_result"
    },
    {
     "data": {
      "text/plain": [
       "(array([0, 1, 2, 3, 4, 5]), <a list of 6 Text xticklabel objects>)"
      ]
     },
     "execution_count": 62,
     "metadata": {},
     "output_type": "execute_result"
    },
    {
     "data": {
      "text/plain": [
       "<Figure size 1800x1800 with 0 Axes>"
      ]
     },
     "metadata": {},
     "output_type": "display_data"
    },
    {
     "data": {
      "image/png": "[encoded data removed]",
      "text/plain": [
       "<Figure size 1440x1440 with 1 Axes>"
      ]
     },
     "metadata": {
      "needs_background": "light"
     },
     "output_type": "display_data"
    }
   ],
   "source": [
    "## plot Graph for record count for each Activity Label \n",
    "\n",
    "    \n",
    "## plot Graph for record count for each Activity Label \n",
    "\n",
    "    \n",
    "ab = Temp\n",
    "fig=plt.figure(figsize=(25,25))\n",
    "#ax=plt.legend(bbox_to_anchor=(0.1, 1.0, 1., .102),loc=10, ncol=4,  #left, bottom, width, height\n",
    "#               )                 \n",
    "#ax.get_title().set_fontsize('20')\n",
    "ax = ab.plot(x='Model1', y=['Sit On Bed', 'Sit on Chair', 'Lying','Ambulating'], kind=\"bar\",figsize=(20,20))\n",
    "ax.set(xlabel = 'Model-Name', ylabel = 'Negative predictive value')\n",
    "ax.grid(True)\n",
    "for p in ax.patches:\n",
    "     ax.annotate(f\"{p.get_height() }\", (p.get_x() + p.get_width() / 2., p.get_height()),\n",
    "         ha='center', va='center', fontsize=11, color='blue', rotation=0, xytext=(0, 10),\n",
    "         textcoords='offset points') \n",
    "plt.xticks(rotation=0)\n",
    "\n",
    "plt.savefig(\"Result_graph/Negative predictive value comparison Data.PNG\")\n",
    "\n",
    "\n",
    "\n",
    "\n"
   ]
  },
  {
   "cell_type": "code",
   "execution_count": 63,
   "metadata": {},
   "outputs": [],
   "source": [
    "\n",
    "#plot Graph for record count for each Activity Label \n",
    "Temp = df_data[df_data['Perfomance Matrix'] == 'Positive Likelihood Ratio']\n",
    "Temp=Temp.sort_values(by=['Ambulating'])\n"
   ]
  },
  {
   "cell_type": "code",
   "execution_count": 64,
   "metadata": {},
   "outputs": [],
   "source": [
    "Temp=Temp[['Perfomance Matrix', 'Sit On Bed', 'Sit on Chair', 'Lying',\n",
    "       'Ambulating', 'Model1']]"
   ]
  },
  {
   "cell_type": "code",
   "execution_count": 65,
   "metadata": {},
   "outputs": [
    {
     "data": {
      "text/plain": [
       "[Text(0, 0.5, 'Positive Likelihood Ratio'), Text(0.5, 0, 'Model-Name')]"
      ]
     },
     "execution_count": 65,
     "metadata": {},
     "output_type": "execute_result"
    },
    {
     "data": {
      "text/plain": [
       "Text(0, 10, '11.32')"
      ]
     },
     "execution_count": 65,
     "metadata": {},
     "output_type": "execute_result"
    },
    {
     "data": {
      "text/plain": [
       "Text(0, 10, '35.57')"
      ]
     },
     "execution_count": 65,
     "metadata": {},
     "output_type": "execute_result"
    },
    {
     "data": {
      "text/plain": [
       "Text(0, 10, '11.99')"
      ]
     },
     "execution_count": 65,
     "metadata": {},
     "output_type": "execute_result"
    },
    {
     "data": {
      "text/plain": [
       "Text(0, 10, '12.23')"
      ]
     },
     "execution_count": 65,
     "metadata": {},
     "output_type": "execute_result"
    },
    {
     "data": {
      "text/plain": [
       "Text(0, 10, '162.42')"
      ]
     },
     "execution_count": 65,
     "metadata": {},
     "output_type": "execute_result"
    },
    {
     "data": {
      "text/plain": [
       "Text(0, 10, '8.57')"
      ]
     },
     "execution_count": 65,
     "metadata": {},
     "output_type": "execute_result"
    },
    {
     "data": {
      "text/plain": [
       "Text(0, 10, '81.73')"
      ]
     },
     "execution_count": 65,
     "metadata": {},
     "output_type": "execute_result"
    },
    {
     "data": {
      "text/plain": [
       "Text(0, 10, '105.88')"
      ]
     },
     "execution_count": 65,
     "metadata": {},
     "output_type": "execute_result"
    },
    {
     "data": {
      "text/plain": [
       "Text(0, 10, '102.1')"
      ]
     },
     "execution_count": 65,
     "metadata": {},
     "output_type": "execute_result"
    },
    {
     "data": {
      "text/plain": [
       "Text(0, 10, '38.64')"
      ]
     },
     "execution_count": 65,
     "metadata": {},
     "output_type": "execute_result"
    },
    {
     "data": {
      "text/plain": [
       "Text(0, 10, '582.53')"
      ]
     },
     "execution_count": 65,
     "metadata": {},
     "output_type": "execute_result"
    },
    {
     "data": {
      "text/plain": [
       "Text(0, 10, '0.0')"
      ]
     },
     "execution_count": 65,
     "metadata": {},
     "output_type": "execute_result"
    },
    {
     "data": {
      "text/plain": [
       "Text(0, 10, '72.4')"
      ]
     },
     "execution_count": 65,
     "metadata": {},
     "output_type": "execute_result"
    },
    {
     "data": {
      "text/plain": [
       "Text(0, 10, '11.5')"
      ]
     },
     "execution_count": 65,
     "metadata": {},
     "output_type": "execute_result"
    },
    {
     "data": {
      "text/plain": [
       "Text(0, 10, '29.15')"
      ]
     },
     "execution_count": 65,
     "metadata": {},
     "output_type": "execute_result"
    },
    {
     "data": {
      "text/plain": [
       "Text(0, 10, '58.76')"
      ]
     },
     "execution_count": 65,
     "metadata": {},
     "output_type": "execute_result"
    },
    {
     "data": {
      "text/plain": [
       "Text(0, 10, '308.92')"
      ]
     },
     "execution_count": 65,
     "metadata": {},
     "output_type": "execute_result"
    },
    {
     "data": {
      "text/plain": [
       "Text(0, 10, '10.82')"
      ]
     },
     "execution_count": 65,
     "metadata": {},
     "output_type": "execute_result"
    },
    {
     "data": {
      "text/plain": [
       "Text(0, 10, '44.81')"
      ]
     },
     "execution_count": 65,
     "metadata": {},
     "output_type": "execute_result"
    },
    {
     "data": {
      "text/plain": [
       "Text(0, 10, '177.1')"
      ]
     },
     "execution_count": 65,
     "metadata": {},
     "output_type": "execute_result"
    },
    {
     "data": {
      "text/plain": [
       "Text(0, 10, '286.04')"
      ]
     },
     "execution_count": 65,
     "metadata": {},
     "output_type": "execute_result"
    },
    {
     "data": {
      "text/plain": [
       "Text(0, 10, '521.29')"
      ]
     },
     "execution_count": 65,
     "metadata": {},
     "output_type": "execute_result"
    },
    {
     "data": {
      "text/plain": [
       "Text(0, 10, '643.08')"
      ]
     },
     "execution_count": 65,
     "metadata": {},
     "output_type": "execute_result"
    },
    {
     "data": {
      "text/plain": [
       "Text(0, 10, '0.0')"
      ]
     },
     "execution_count": 65,
     "metadata": {},
     "output_type": "execute_result"
    },
    {
     "data": {
      "text/plain": [
       "(array([0, 1, 2, 3, 4, 5]), <a list of 6 Text xticklabel objects>)"
      ]
     },
     "execution_count": 65,
     "metadata": {},
     "output_type": "execute_result"
    },
    {
     "data": {
      "text/plain": [
       "<Figure size 1800x1800 with 0 Axes>"
      ]
     },
     "metadata": {},
     "output_type": "display_data"
    },
    {
     "data": {
      "image/png": "[encoded data removed]",
      "text/plain": [
       "<Figure size 1440x1440 with 1 Axes>"
      ]
     },
     "metadata": {
      "needs_background": "light"
     },
     "output_type": "display_data"
    }
   ],
   "source": [
    "## plot Graph for record count for each Activity Label \n",
    "\n",
    "    \n",
    "## plot Graph for record count for each Activity Label \n",
    "\n",
    "    \n",
    "ab = Temp\n",
    "fig=plt.figure(figsize=(25,25))\n",
    "#ax=plt.legend(bbox_to_anchor=(0.1, 1.0, 1., .102),loc=10, ncol=4,  #left, bottom, width, height\n",
    "#               )                 \n",
    "#ax.get_title().set_fontsize('20')\n",
    "ax = ab.plot(x='Model1', y=['Sit On Bed', 'Sit on Chair', 'Lying','Ambulating'], kind=\"bar\",figsize=(20,20) )\n",
    "ax.set(xlabel = 'Model-Name', ylabel = 'Positive Likelihood Ratio')\n",
    "ax.grid(True)\n",
    "for p in ax.patches:\n",
    "     ax.annotate(f\"{p.get_height() }\", (p.get_x() + p.get_width() / 2., p.get_height()),\n",
    "         ha='center', va='center', fontsize=11, color='blue', rotation=0, xytext=(0, 10),\n",
    "         textcoords='offset points') \n",
    "plt.xticks(rotation=0)\n",
    "\n",
    "plt.savefig(\"Result_graph/Positive Likelihood Ratio comparison Data.PNG\")\n",
    "\n",
    "\n",
    "\n",
    "\n"
   ]
  },
  {
   "cell_type": "code",
   "execution_count": 66,
   "metadata": {},
   "outputs": [
    {
     "data": {
      "text/html": [
       "<div>\n",
       "<style scoped>\n",
       "    .dataframe tbody tr th:only-of-type {\n",
       "        vertical-align: middle;\n",
       "    }\n",
       "\n",
       "    .dataframe tbody tr th {\n",
       "        vertical-align: top;\n",
       "    }\n",
       "\n",
       "    .dataframe thead th {\n",
       "        text-align: right;\n",
       "    }\n",
       "</style>\n",
       "<table border=\"1\" class=\"dataframe\">\n",
       "  <thead>\n",
       "    <tr style=\"text-align: right;\">\n",
       "      <th></th>\n",
       "      <th>Perfomance Matrix</th>\n",
       "      <th>Sit On Bed</th>\n",
       "      <th>Sit on Chair</th>\n",
       "      <th>Lying</th>\n",
       "      <th>Ambulating</th>\n",
       "      <th>micro avg</th>\n",
       "      <th>macro avg</th>\n",
       "      <th>weighted avg</th>\n",
       "      <th>Model1</th>\n",
       "      <th>Data Type</th>\n",
       "    </tr>\n",
       "  </thead>\n",
       "  <tbody>\n",
       "    <tr>\n",
       "      <th>0</th>\n",
       "      <td>f1-score</td>\n",
       "      <td>0.85</td>\n",
       "      <td>0.44</td>\n",
       "      <td>1.00</td>\n",
       "      <td>0.52</td>\n",
       "      <td>0.93</td>\n",
       "      <td>0.70</td>\n",
       "      <td>0.92</td>\n",
       "      <td>Logistics Regression</td>\n",
       "      <td>Wearable Sensor Data</td>\n",
       "    </tr>\n",
       "    <tr>\n",
       "      <th>1</th>\n",
       "      <td>precision</td>\n",
       "      <td>0.78</td>\n",
       "      <td>0.72</td>\n",
       "      <td>0.99</td>\n",
       "      <td>0.94</td>\n",
       "      <td>0.93</td>\n",
       "      <td>0.86</td>\n",
       "      <td>0.93</td>\n",
       "      <td>Logistics Regression</td>\n",
       "      <td>Wearable Sensor Data</td>\n",
       "    </tr>\n",
       "    <tr>\n",
       "      <th>2</th>\n",
       "      <td>recall</td>\n",
       "      <td>0.95</td>\n",
       "      <td>0.32</td>\n",
       "      <td>1.00</td>\n",
       "      <td>0.36</td>\n",
       "      <td>0.93</td>\n",
       "      <td>0.66</td>\n",
       "      <td>0.93</td>\n",
       "      <td>Logistics Regression</td>\n",
       "      <td>Wearable Sensor Data</td>\n",
       "    </tr>\n",
       "    <tr>\n",
       "      <th>3</th>\n",
       "      <td>support</td>\n",
       "      <td>5010.00</td>\n",
       "      <td>1402.00</td>\n",
       "      <td>15426.00</td>\n",
       "      <td>701.00</td>\n",
       "      <td>22539.00</td>\n",
       "      <td>22539.00</td>\n",
       "      <td>22539.00</td>\n",
       "      <td>Logistics Regression</td>\n",
       "      <td>Wearable Sensor Data</td>\n",
       "    </tr>\n",
       "    <tr>\n",
       "      <th>4</th>\n",
       "      <td>Training Accuracy</td>\n",
       "      <td>NaN</td>\n",
       "      <td>NaN</td>\n",
       "      <td>NaN</td>\n",
       "      <td>NaN</td>\n",
       "      <td>NaN</td>\n",
       "      <td>0.92</td>\n",
       "      <td>NaN</td>\n",
       "      <td>Logistics Regression</td>\n",
       "      <td>Wearable Sensor Data</td>\n",
       "    </tr>\n",
       "    <tr>\n",
       "      <th>5</th>\n",
       "      <td>Test Accuracy</td>\n",
       "      <td>NaN</td>\n",
       "      <td>NaN</td>\n",
       "      <td>NaN</td>\n",
       "      <td>NaN</td>\n",
       "      <td>NaN</td>\n",
       "      <td>0.93</td>\n",
       "      <td>NaN</td>\n",
       "      <td>Logistics Regression</td>\n",
       "      <td>Wearable Sensor Data</td>\n",
       "    </tr>\n",
       "    <tr>\n",
       "      <th>6</th>\n",
       "      <td>Model_Time</td>\n",
       "      <td>NaN</td>\n",
       "      <td>NaN</td>\n",
       "      <td>NaN</td>\n",
       "      <td>NaN</td>\n",
       "      <td>NaN</td>\n",
       "      <td>82.63</td>\n",
       "      <td>NaN</td>\n",
       "      <td>Logistics Regression</td>\n",
       "      <td>Wearable Sensor Data</td>\n",
       "    </tr>\n",
       "    <tr>\n",
       "      <th>7</th>\n",
       "      <td>Specificity</td>\n",
       "      <td>0.92</td>\n",
       "      <td>0.99</td>\n",
       "      <td>0.98</td>\n",
       "      <td>1.00</td>\n",
       "      <td>NaN</td>\n",
       "      <td>NaN</td>\n",
       "      <td>NaN</td>\n",
       "      <td>Logistics Regression</td>\n",
       "      <td>Wearable Sensor Data</td>\n",
       "    </tr>\n",
       "    <tr>\n",
       "      <th>8</th>\n",
       "      <td>Negative predictive value</td>\n",
       "      <td>0.98</td>\n",
       "      <td>0.96</td>\n",
       "      <td>1.00</td>\n",
       "      <td>0.98</td>\n",
       "      <td>NaN</td>\n",
       "      <td>NaN</td>\n",
       "      <td>NaN</td>\n",
       "      <td>Logistics Regression</td>\n",
       "      <td>Wearable Sensor Data</td>\n",
       "    </tr>\n",
       "    <tr>\n",
       "      <th>9</th>\n",
       "      <td>Positive Likelihood Ratio</td>\n",
       "      <td>12.23</td>\n",
       "      <td>38.64</td>\n",
       "      <td>58.76</td>\n",
       "      <td>521.29</td>\n",
       "      <td>NaN</td>\n",
       "      <td>NaN</td>\n",
       "      <td>NaN</td>\n",
       "      <td>Logistics Regression</td>\n",
       "      <td>Wearable Sensor Data</td>\n",
       "    </tr>\n",
       "    <tr>\n",
       "      <th>10</th>\n",
       "      <td>Negative likelihood ratio</td>\n",
       "      <td>17.98</td>\n",
       "      <td>1.45</td>\n",
       "      <td>2166.23</td>\n",
       "      <td>1.56</td>\n",
       "      <td>NaN</td>\n",
       "      <td>NaN</td>\n",
       "      <td>NaN</td>\n",
       "      <td>Logistics Regression</td>\n",
       "      <td>Wearable Sensor Data</td>\n",
       "    </tr>\n",
       "    <tr>\n",
       "      <th>11</th>\n",
       "      <td>Overall Misclassification Ratio</td>\n",
       "      <td>0.07</td>\n",
       "      <td>0.05</td>\n",
       "      <td>0.01</td>\n",
       "      <td>0.02</td>\n",
       "      <td>NaN</td>\n",
       "      <td>NaN</td>\n",
       "      <td>NaN</td>\n",
       "      <td>Logistics Regression</td>\n",
       "      <td>Wearable Sensor Data</td>\n",
       "    </tr>\n",
       "    <tr>\n",
       "      <th>12</th>\n",
       "      <td>ROC curve_Avergae</td>\n",
       "      <td>NaN</td>\n",
       "      <td>NaN</td>\n",
       "      <td>NaN</td>\n",
       "      <td>NaN</td>\n",
       "      <td>NaN</td>\n",
       "      <td>0.96</td>\n",
       "      <td>NaN</td>\n",
       "      <td>Logistics Regression</td>\n",
       "      <td>Wearable Sensor Data</td>\n",
       "    </tr>\n",
       "    <tr>\n",
       "      <th>13</th>\n",
       "      <td>f1-score</td>\n",
       "      <td>0.99</td>\n",
       "      <td>0.98</td>\n",
       "      <td>1.00</td>\n",
       "      <td>0.88</td>\n",
       "      <td>0.99</td>\n",
       "      <td>0.96</td>\n",
       "      <td>0.99</td>\n",
       "      <td>Random Forest</td>\n",
       "      <td>Wearable Sensor Data</td>\n",
       "    </tr>\n",
       "    <tr>\n",
       "      <th>14</th>\n",
       "      <td>precision</td>\n",
       "      <td>0.98</td>\n",
       "      <td>0.97</td>\n",
       "      <td>1.00</td>\n",
       "      <td>0.95</td>\n",
       "      <td>0.99</td>\n",
       "      <td>0.98</td>\n",
       "      <td>0.99</td>\n",
       "      <td>Random Forest</td>\n",
       "      <td>Wearable Sensor Data</td>\n",
       "    </tr>\n",
       "    <tr>\n",
       "      <th>15</th>\n",
       "      <td>recall</td>\n",
       "      <td>0.99</td>\n",
       "      <td>0.99</td>\n",
       "      <td>1.00</td>\n",
       "      <td>0.82</td>\n",
       "      <td>0.99</td>\n",
       "      <td>0.95</td>\n",
       "      <td>0.99</td>\n",
       "      <td>Random Forest</td>\n",
       "      <td>Wearable Sensor Data</td>\n",
       "    </tr>\n",
       "    <tr>\n",
       "      <th>16</th>\n",
       "      <td>support</td>\n",
       "      <td>5010.00</td>\n",
       "      <td>1402.00</td>\n",
       "      <td>15426.00</td>\n",
       "      <td>701.00</td>\n",
       "      <td>22539.00</td>\n",
       "      <td>22539.00</td>\n",
       "      <td>22539.00</td>\n",
       "      <td>Random Forest</td>\n",
       "      <td>Wearable Sensor Data</td>\n",
       "    </tr>\n",
       "    <tr>\n",
       "      <th>17</th>\n",
       "      <td>Training Accuracy</td>\n",
       "      <td>NaN</td>\n",
       "      <td>NaN</td>\n",
       "      <td>NaN</td>\n",
       "      <td>NaN</td>\n",
       "      <td>NaN</td>\n",
       "      <td>1.00</td>\n",
       "      <td>NaN</td>\n",
       "      <td>Random Forest</td>\n",
       "      <td>Wearable Sensor Data</td>\n",
       "    </tr>\n",
       "    <tr>\n",
       "      <th>18</th>\n",
       "      <td>Test Accuracy</td>\n",
       "      <td>NaN</td>\n",
       "      <td>NaN</td>\n",
       "      <td>NaN</td>\n",
       "      <td>NaN</td>\n",
       "      <td>NaN</td>\n",
       "      <td>0.99</td>\n",
       "      <td>NaN</td>\n",
       "      <td>Random Forest</td>\n",
       "      <td>Wearable Sensor Data</td>\n",
       "    </tr>\n",
       "    <tr>\n",
       "      <th>19</th>\n",
       "      <td>Model_Time</td>\n",
       "      <td>NaN</td>\n",
       "      <td>NaN</td>\n",
       "      <td>NaN</td>\n",
       "      <td>NaN</td>\n",
       "      <td>NaN</td>\n",
       "      <td>2.27</td>\n",
       "      <td>NaN</td>\n",
       "      <td>Random Forest</td>\n",
       "      <td>Wearable Sensor Data</td>\n",
       "    </tr>\n",
       "    <tr>\n",
       "      <th>20</th>\n",
       "      <td>Specificity</td>\n",
       "      <td>0.99</td>\n",
       "      <td>1.00</td>\n",
       "      <td>1.00</td>\n",
       "      <td>1.00</td>\n",
       "      <td>NaN</td>\n",
       "      <td>NaN</td>\n",
       "      <td>NaN</td>\n",
       "      <td>Random Forest</td>\n",
       "      <td>Wearable Sensor Data</td>\n",
       "    </tr>\n",
       "    <tr>\n",
       "      <th>21</th>\n",
       "      <td>Negative predictive value</td>\n",
       "      <td>1.00</td>\n",
       "      <td>1.00</td>\n",
       "      <td>1.00</td>\n",
       "      <td>0.99</td>\n",
       "      <td>NaN</td>\n",
       "      <td>NaN</td>\n",
       "      <td>NaN</td>\n",
       "      <td>Random Forest</td>\n",
       "      <td>Wearable Sensor Data</td>\n",
       "    </tr>\n",
       "    <tr>\n",
       "      <th>22</th>\n",
       "      <td>Positive Likelihood Ratio</td>\n",
       "      <td>162.42</td>\n",
       "      <td>582.53</td>\n",
       "      <td>308.92</td>\n",
       "      <td>643.08</td>\n",
       "      <td>NaN</td>\n",
       "      <td>NaN</td>\n",
       "      <td>NaN</td>\n",
       "      <td>Random Forest</td>\n",
       "      <td>Wearable Sensor Data</td>\n",
       "    </tr>\n",
       "    <tr>\n",
       "      <th>23</th>\n",
       "      <td>Negative likelihood ratio</td>\n",
       "      <td>115.80</td>\n",
       "      <td>127.24</td>\n",
       "      <td>904.48</td>\n",
       "      <td>5.69</td>\n",
       "      <td>NaN</td>\n",
       "      <td>NaN</td>\n",
       "      <td>NaN</td>\n",
       "      <td>Random Forest</td>\n",
       "      <td>Wearable Sensor Data</td>\n",
       "    </tr>\n",
       "    <tr>\n",
       "      <th>24</th>\n",
       "      <td>Overall Misclassification Ratio</td>\n",
       "      <td>0.01</td>\n",
       "      <td>0.00</td>\n",
       "      <td>0.00</td>\n",
       "      <td>0.01</td>\n",
       "      <td>NaN</td>\n",
       "      <td>NaN</td>\n",
       "      <td>NaN</td>\n",
       "      <td>Random Forest</td>\n",
       "      <td>Wearable Sensor Data</td>\n",
       "    </tr>\n",
       "    <tr>\n",
       "      <th>25</th>\n",
       "      <td>ROC curve_Avergae</td>\n",
       "      <td>NaN</td>\n",
       "      <td>NaN</td>\n",
       "      <td>NaN</td>\n",
       "      <td>NaN</td>\n",
       "      <td>NaN</td>\n",
       "      <td>1.00</td>\n",
       "      <td>NaN</td>\n",
       "      <td>Random Forest</td>\n",
       "      <td>Wearable Sensor Data</td>\n",
       "    </tr>\n",
       "    <tr>\n",
       "      <th>26</th>\n",
       "      <td>f1-score</td>\n",
       "      <td>0.85</td>\n",
       "      <td>0.44</td>\n",
       "      <td>0.99</td>\n",
       "      <td>0.46</td>\n",
       "      <td>0.92</td>\n",
       "      <td>0.69</td>\n",
       "      <td>0.91</td>\n",
       "      <td>DNN Classifier</td>\n",
       "      <td>Wearable Sensor Data</td>\n",
       "    </tr>\n",
       "    <tr>\n",
       "      <th>27</th>\n",
       "      <td>precision</td>\n",
       "      <td>0.76</td>\n",
       "      <td>0.84</td>\n",
       "      <td>0.99</td>\n",
       "      <td>0.59</td>\n",
       "      <td>0.92</td>\n",
       "      <td>0.80</td>\n",
       "      <td>0.92</td>\n",
       "      <td>DNN Classifier</td>\n",
       "      <td>Wearable Sensor Data</td>\n",
       "    </tr>\n",
       "    <tr>\n",
       "      <th>28</th>\n",
       "      <td>recall</td>\n",
       "      <td>0.96</td>\n",
       "      <td>0.29</td>\n",
       "      <td>0.99</td>\n",
       "      <td>0.38</td>\n",
       "      <td>0.92</td>\n",
       "      <td>0.66</td>\n",
       "      <td>0.92</td>\n",
       "      <td>DNN Classifier</td>\n",
       "      <td>Wearable Sensor Data</td>\n",
       "    </tr>\n",
       "    <tr>\n",
       "      <th>29</th>\n",
       "      <td>support</td>\n",
       "      <td>5010.00</td>\n",
       "      <td>1402.00</td>\n",
       "      <td>15426.00</td>\n",
       "      <td>701.00</td>\n",
       "      <td>22539.00</td>\n",
       "      <td>22539.00</td>\n",
       "      <td>22539.00</td>\n",
       "      <td>DNN Classifier</td>\n",
       "      <td>Wearable Sensor Data</td>\n",
       "    </tr>\n",
       "    <tr>\n",
       "      <th>30</th>\n",
       "      <td>Traing Accuracy</td>\n",
       "      <td>NaN</td>\n",
       "      <td>NaN</td>\n",
       "      <td>NaN</td>\n",
       "      <td>NaN</td>\n",
       "      <td>NaN</td>\n",
       "      <td>0.92</td>\n",
       "      <td>NaN</td>\n",
       "      <td>DNN Classifier</td>\n",
       "      <td>Wearable Sensor Data</td>\n",
       "    </tr>\n",
       "    <tr>\n",
       "      <th>31</th>\n",
       "      <td>Test Accuracy</td>\n",
       "      <td>NaN</td>\n",
       "      <td>NaN</td>\n",
       "      <td>NaN</td>\n",
       "      <td>NaN</td>\n",
       "      <td>NaN</td>\n",
       "      <td>0.92</td>\n",
       "      <td>NaN</td>\n",
       "      <td>DNN Classifier</td>\n",
       "      <td>Wearable Sensor Data</td>\n",
       "    </tr>\n",
       "    <tr>\n",
       "      <th>32</th>\n",
       "      <td>Model_Time</td>\n",
       "      <td>NaN</td>\n",
       "      <td>NaN</td>\n",
       "      <td>NaN</td>\n",
       "      <td>NaN</td>\n",
       "      <td>NaN</td>\n",
       "      <td>86.50</td>\n",
       "      <td>NaN</td>\n",
       "      <td>DNN Classifier</td>\n",
       "      <td>Wearable Sensor Data</td>\n",
       "    </tr>\n",
       "    <tr>\n",
       "      <th>33</th>\n",
       "      <td>Specificity</td>\n",
       "      <td>0.92</td>\n",
       "      <td>1.00</td>\n",
       "      <td>0.99</td>\n",
       "      <td>0.99</td>\n",
       "      <td>NaN</td>\n",
       "      <td>NaN</td>\n",
       "      <td>NaN</td>\n",
       "      <td>DNN Classifier</td>\n",
       "      <td>Wearable Sensor Data</td>\n",
       "    </tr>\n",
       "    <tr>\n",
       "      <th>34</th>\n",
       "      <td>Negative predictive value</td>\n",
       "      <td>0.99</td>\n",
       "      <td>0.96</td>\n",
       "      <td>0.97</td>\n",
       "      <td>0.98</td>\n",
       "      <td>NaN</td>\n",
       "      <td>NaN</td>\n",
       "      <td>NaN</td>\n",
       "      <td>DNN Classifier</td>\n",
       "      <td>Wearable Sensor Data</td>\n",
       "    </tr>\n",
       "    <tr>\n",
       "      <th>35</th>\n",
       "      <td>Positive Likelihood Ratio</td>\n",
       "      <td>11.32</td>\n",
       "      <td>81.73</td>\n",
       "      <td>72.40</td>\n",
       "      <td>44.81</td>\n",
       "      <td>NaN</td>\n",
       "      <td>NaN</td>\n",
       "      <td>NaN</td>\n",
       "      <td>DNN Classifier</td>\n",
       "      <td>Wearable Sensor Data</td>\n",
       "    </tr>\n",
       "    <tr>\n",
       "      <th>36</th>\n",
       "      <td>Negative likelihood ratio</td>\n",
       "      <td>20.66</td>\n",
       "      <td>1.41</td>\n",
       "      <td>77.63</td>\n",
       "      <td>1.61</td>\n",
       "      <td>NaN</td>\n",
       "      <td>NaN</td>\n",
       "      <td>NaN</td>\n",
       "      <td>DNN Classifier</td>\n",
       "      <td>Wearable Sensor Data</td>\n",
       "    </tr>\n",
       "    <tr>\n",
       "      <th>37</th>\n",
       "      <td>Overall Misclassification Ratio</td>\n",
       "      <td>0.08</td>\n",
       "      <td>0.05</td>\n",
       "      <td>0.01</td>\n",
       "      <td>0.03</td>\n",
       "      <td>NaN</td>\n",
       "      <td>NaN</td>\n",
       "      <td>NaN</td>\n",
       "      <td>DNN Classifier</td>\n",
       "      <td>Wearable Sensor Data</td>\n",
       "    </tr>\n",
       "    <tr>\n",
       "      <th>38</th>\n",
       "      <td>ROC curve_Avergae</td>\n",
       "      <td>NaN</td>\n",
       "      <td>NaN</td>\n",
       "      <td>NaN</td>\n",
       "      <td>NaN</td>\n",
       "      <td>NaN</td>\n",
       "      <td>0.95</td>\n",
       "      <td>NaN</td>\n",
       "      <td>DNN Classifier</td>\n",
       "      <td>Wearable Sensor Data</td>\n",
       "    </tr>\n",
       "    <tr>\n",
       "      <th>39</th>\n",
       "      <td>f1-score</td>\n",
       "      <td>0.90</td>\n",
       "      <td>0.87</td>\n",
       "      <td>0.97</td>\n",
       "      <td>0.79</td>\n",
       "      <td>0.94</td>\n",
       "      <td>0.88</td>\n",
       "      <td>0.94</td>\n",
       "      <td>KNN Classifier</td>\n",
       "      <td>Wearable Sensor Data</td>\n",
       "    </tr>\n",
       "    <tr>\n",
       "      <th>40</th>\n",
       "      <td>precision</td>\n",
       "      <td>0.91</td>\n",
       "      <td>0.88</td>\n",
       "      <td>0.96</td>\n",
       "      <td>0.85</td>\n",
       "      <td>0.94</td>\n",
       "      <td>0.90</td>\n",
       "      <td>0.94</td>\n",
       "      <td>KNN Classifier</td>\n",
       "      <td>Wearable Sensor Data</td>\n",
       "    </tr>\n",
       "    <tr>\n",
       "      <th>41</th>\n",
       "      <td>recall</td>\n",
       "      <td>0.88</td>\n",
       "      <td>0.87</td>\n",
       "      <td>0.98</td>\n",
       "      <td>0.75</td>\n",
       "      <td>0.94</td>\n",
       "      <td>0.87</td>\n",
       "      <td>0.94</td>\n",
       "      <td>KNN Classifier</td>\n",
       "      <td>Wearable Sensor Data</td>\n",
       "    </tr>\n",
       "    <tr>\n",
       "      <th>42</th>\n",
       "      <td>support</td>\n",
       "      <td>5010.00</td>\n",
       "      <td>1402.00</td>\n",
       "      <td>15426.00</td>\n",
       "      <td>701.00</td>\n",
       "      <td>22539.00</td>\n",
       "      <td>22539.00</td>\n",
       "      <td>22539.00</td>\n",
       "      <td>KNN Classifier</td>\n",
       "      <td>Wearable Sensor Data</td>\n",
       "    </tr>\n",
       "    <tr>\n",
       "      <th>43</th>\n",
       "      <td>Training Accuracy</td>\n",
       "      <td>NaN</td>\n",
       "      <td>NaN</td>\n",
       "      <td>NaN</td>\n",
       "      <td>NaN</td>\n",
       "      <td>NaN</td>\n",
       "      <td>1.00</td>\n",
       "      <td>NaN</td>\n",
       "      <td>KNN Classifier</td>\n",
       "      <td>Wearable Sensor Data</td>\n",
       "    </tr>\n",
       "    <tr>\n",
       "      <th>44</th>\n",
       "      <td>Test Accuracy</td>\n",
       "      <td>NaN</td>\n",
       "      <td>NaN</td>\n",
       "      <td>NaN</td>\n",
       "      <td>NaN</td>\n",
       "      <td>NaN</td>\n",
       "      <td>0.94</td>\n",
       "      <td>NaN</td>\n",
       "      <td>KNN Classifier</td>\n",
       "      <td>Wearable Sensor Data</td>\n",
       "    </tr>\n",
       "    <tr>\n",
       "      <th>45</th>\n",
       "      <td>Model_Time</td>\n",
       "      <td>NaN</td>\n",
       "      <td>NaN</td>\n",
       "      <td>NaN</td>\n",
       "      <td>NaN</td>\n",
       "      <td>NaN</td>\n",
       "      <td>5.41</td>\n",
       "      <td>NaN</td>\n",
       "      <td>KNN Classifier</td>\n",
       "      <td>Wearable Sensor Data</td>\n",
       "    </tr>\n",
       "    <tr>\n",
       "      <th>46</th>\n",
       "      <td>Specificity</td>\n",
       "      <td>0.98</td>\n",
       "      <td>0.99</td>\n",
       "      <td>0.92</td>\n",
       "      <td>1.00</td>\n",
       "      <td>NaN</td>\n",
       "      <td>NaN</td>\n",
       "      <td>NaN</td>\n",
       "      <td>KNN Classifier</td>\n",
       "      <td>Wearable Sensor Data</td>\n",
       "    </tr>\n",
       "    <tr>\n",
       "      <th>47</th>\n",
       "      <td>Negative predictive value</td>\n",
       "      <td>0.97</td>\n",
       "      <td>0.99</td>\n",
       "      <td>0.95</td>\n",
       "      <td>0.99</td>\n",
       "      <td>NaN</td>\n",
       "      <td>NaN</td>\n",
       "      <td>NaN</td>\n",
       "      <td>KNN Classifier</td>\n",
       "      <td>Wearable Sensor Data</td>\n",
       "    </tr>\n",
       "    <tr>\n",
       "      <th>48</th>\n",
       "      <td>Positive Likelihood Ratio</td>\n",
       "      <td>35.57</td>\n",
       "      <td>105.88</td>\n",
       "      <td>11.50</td>\n",
       "      <td>177.10</td>\n",
       "      <td>NaN</td>\n",
       "      <td>NaN</td>\n",
       "      <td>NaN</td>\n",
       "      <td>KNN Classifier</td>\n",
       "      <td>Wearable Sensor Data</td>\n",
       "    </tr>\n",
       "    <tr>\n",
       "      <th>49</th>\n",
       "      <td>Negative likelihood ratio</td>\n",
       "      <td>8.47</td>\n",
       "      <td>7.44</td>\n",
       "      <td>38.89</td>\n",
       "      <td>3.92</td>\n",
       "      <td>NaN</td>\n",
       "      <td>NaN</td>\n",
       "      <td>NaN</td>\n",
       "      <td>KNN Classifier</td>\n",
       "      <td>Wearable Sensor Data</td>\n",
       "    </tr>\n",
       "    <tr>\n",
       "      <th>50</th>\n",
       "      <td>Overall Misclassification Ratio</td>\n",
       "      <td>0.04</td>\n",
       "      <td>0.02</td>\n",
       "      <td>0.04</td>\n",
       "      <td>0.01</td>\n",
       "      <td>NaN</td>\n",
       "      <td>NaN</td>\n",
       "      <td>NaN</td>\n",
       "      <td>KNN Classifier</td>\n",
       "      <td>Wearable Sensor Data</td>\n",
       "    </tr>\n",
       "    <tr>\n",
       "      <th>51</th>\n",
       "      <td>ROC curve_Avergae</td>\n",
       "      <td>NaN</td>\n",
       "      <td>NaN</td>\n",
       "      <td>NaN</td>\n",
       "      <td>NaN</td>\n",
       "      <td>NaN</td>\n",
       "      <td>0.92</td>\n",
       "      <td>NaN</td>\n",
       "      <td>KNN Classifier</td>\n",
       "      <td>Wearable Sensor Data</td>\n",
       "    </tr>\n",
       "    <tr>\n",
       "      <th>52</th>\n",
       "      <td>f1-score</td>\n",
       "      <td>0.85</td>\n",
       "      <td>0.53</td>\n",
       "      <td>0.99</td>\n",
       "      <td>0.25</td>\n",
       "      <td>0.92</td>\n",
       "      <td>0.66</td>\n",
       "      <td>0.91</td>\n",
       "      <td>GBM Classification</td>\n",
       "      <td>Wearable Sensor Data</td>\n",
       "    </tr>\n",
       "    <tr>\n",
       "      <th>53</th>\n",
       "      <td>precision</td>\n",
       "      <td>0.77</td>\n",
       "      <td>0.87</td>\n",
       "      <td>0.98</td>\n",
       "      <td>0.90</td>\n",
       "      <td>0.92</td>\n",
       "      <td>0.88</td>\n",
       "      <td>0.93</td>\n",
       "      <td>GBM Classification</td>\n",
       "      <td>Wearable Sensor Data</td>\n",
       "    </tr>\n",
       "    <tr>\n",
       "      <th>54</th>\n",
       "      <td>recall</td>\n",
       "      <td>0.95</td>\n",
       "      <td>0.38</td>\n",
       "      <td>1.00</td>\n",
       "      <td>0.14</td>\n",
       "      <td>0.92</td>\n",
       "      <td>0.62</td>\n",
       "      <td>0.92</td>\n",
       "      <td>GBM Classification</td>\n",
       "      <td>Wearable Sensor Data</td>\n",
       "    </tr>\n",
       "    <tr>\n",
       "      <th>55</th>\n",
       "      <td>support</td>\n",
       "      <td>5010.00</td>\n",
       "      <td>1402.00</td>\n",
       "      <td>15426.00</td>\n",
       "      <td>701.00</td>\n",
       "      <td>22539.00</td>\n",
       "      <td>22539.00</td>\n",
       "      <td>22539.00</td>\n",
       "      <td>GBM Classification</td>\n",
       "      <td>Wearable Sensor Data</td>\n",
       "    </tr>\n",
       "    <tr>\n",
       "      <th>56</th>\n",
       "      <td>Training Accuracy</td>\n",
       "      <td>NaN</td>\n",
       "      <td>NaN</td>\n",
       "      <td>NaN</td>\n",
       "      <td>NaN</td>\n",
       "      <td>NaN</td>\n",
       "      <td>0.92</td>\n",
       "      <td>NaN</td>\n",
       "      <td>GBM Classification</td>\n",
       "      <td>Wearable Sensor Data</td>\n",
       "    </tr>\n",
       "    <tr>\n",
       "      <th>57</th>\n",
       "      <td>Test Accuracy</td>\n",
       "      <td>NaN</td>\n",
       "      <td>NaN</td>\n",
       "      <td>NaN</td>\n",
       "      <td>NaN</td>\n",
       "      <td>NaN</td>\n",
       "      <td>0.92</td>\n",
       "      <td>NaN</td>\n",
       "      <td>GBM Classification</td>\n",
       "      <td>Wearable Sensor Data</td>\n",
       "    </tr>\n",
       "    <tr>\n",
       "      <th>58</th>\n",
       "      <td>Model_Time</td>\n",
       "      <td>NaN</td>\n",
       "      <td>NaN</td>\n",
       "      <td>NaN</td>\n",
       "      <td>NaN</td>\n",
       "      <td>NaN</td>\n",
       "      <td>2.51</td>\n",
       "      <td>NaN</td>\n",
       "      <td>GBM Classification</td>\n",
       "      <td>Wearable Sensor Data</td>\n",
       "    </tr>\n",
       "    <tr>\n",
       "      <th>59</th>\n",
       "      <td>Specificity</td>\n",
       "      <td>0.92</td>\n",
       "      <td>1.00</td>\n",
       "      <td>0.97</td>\n",
       "      <td>1.00</td>\n",
       "      <td>NaN</td>\n",
       "      <td>NaN</td>\n",
       "      <td>NaN</td>\n",
       "      <td>GBM Classification</td>\n",
       "      <td>Wearable Sensor Data</td>\n",
       "    </tr>\n",
       "    <tr>\n",
       "      <th>60</th>\n",
       "      <td>Negative predictive value</td>\n",
       "      <td>0.98</td>\n",
       "      <td>0.96</td>\n",
       "      <td>1.00</td>\n",
       "      <td>0.97</td>\n",
       "      <td>NaN</td>\n",
       "      <td>NaN</td>\n",
       "      <td>NaN</td>\n",
       "      <td>GBM Classification</td>\n",
       "      <td>Wearable Sensor Data</td>\n",
       "    </tr>\n",
       "    <tr>\n",
       "      <th>61</th>\n",
       "      <td>Positive Likelihood Ratio</td>\n",
       "      <td>11.99</td>\n",
       "      <td>102.10</td>\n",
       "      <td>29.15</td>\n",
       "      <td>286.04</td>\n",
       "      <td>NaN</td>\n",
       "      <td>NaN</td>\n",
       "      <td>NaN</td>\n",
       "      <td>GBM Classification</td>\n",
       "      <td>Wearable Sensor Data</td>\n",
       "    </tr>\n",
       "    <tr>\n",
       "      <th>62</th>\n",
       "      <td>Negative likelihood ratio</td>\n",
       "      <td>18.23</td>\n",
       "      <td>1.61</td>\n",
       "      <td>7448.42</td>\n",
       "      <td>1.17</td>\n",
       "      <td>NaN</td>\n",
       "      <td>NaN</td>\n",
       "      <td>NaN</td>\n",
       "      <td>GBM Classification</td>\n",
       "      <td>Wearable Sensor Data</td>\n",
       "    </tr>\n",
       "    <tr>\n",
       "      <th>63</th>\n",
       "      <td>Overall Misclassification Ratio</td>\n",
       "      <td>0.07</td>\n",
       "      <td>0.04</td>\n",
       "      <td>0.01</td>\n",
       "      <td>0.03</td>\n",
       "      <td>NaN</td>\n",
       "      <td>NaN</td>\n",
       "      <td>NaN</td>\n",
       "      <td>GBM Classification</td>\n",
       "      <td>Wearable Sensor Data</td>\n",
       "    </tr>\n",
       "    <tr>\n",
       "      <th>64</th>\n",
       "      <td>ROC curve_Avergae</td>\n",
       "      <td>NaN</td>\n",
       "      <td>NaN</td>\n",
       "      <td>NaN</td>\n",
       "      <td>NaN</td>\n",
       "      <td>NaN</td>\n",
       "      <td>0.98</td>\n",
       "      <td>NaN</td>\n",
       "      <td>GBM Classification</td>\n",
       "      <td>Wearable Sensor Data</td>\n",
       "    </tr>\n",
       "    <tr>\n",
       "      <th>65</th>\n",
       "      <td>f1-score</td>\n",
       "      <td>0.80</td>\n",
       "      <td>0.00</td>\n",
       "      <td>0.98</td>\n",
       "      <td>0.00</td>\n",
       "      <td>0.89</td>\n",
       "      <td>0.44</td>\n",
       "      <td>0.85</td>\n",
       "      <td>SVM Classifier</td>\n",
       "      <td>Wearable Sensor Data</td>\n",
       "    </tr>\n",
       "    <tr>\n",
       "      <th>66</th>\n",
       "      <td>precision</td>\n",
       "      <td>0.71</td>\n",
       "      <td>0.00</td>\n",
       "      <td>0.96</td>\n",
       "      <td>0.00</td>\n",
       "      <td>0.89</td>\n",
       "      <td>0.42</td>\n",
       "      <td>0.81</td>\n",
       "      <td>SVM Classifier</td>\n",
       "      <td>Wearable Sensor Data</td>\n",
       "    </tr>\n",
       "    <tr>\n",
       "      <th>67</th>\n",
       "      <td>recall</td>\n",
       "      <td>0.92</td>\n",
       "      <td>0.00</td>\n",
       "      <td>1.00</td>\n",
       "      <td>0.00</td>\n",
       "      <td>0.89</td>\n",
       "      <td>0.48</td>\n",
       "      <td>0.89</td>\n",
       "      <td>SVM Classifier</td>\n",
       "      <td>Wearable Sensor Data</td>\n",
       "    </tr>\n",
       "    <tr>\n",
       "      <th>68</th>\n",
       "      <td>support</td>\n",
       "      <td>5010.00</td>\n",
       "      <td>1402.00</td>\n",
       "      <td>15426.00</td>\n",
       "      <td>701.00</td>\n",
       "      <td>22539.00</td>\n",
       "      <td>22539.00</td>\n",
       "      <td>22539.00</td>\n",
       "      <td>SVM Classifier</td>\n",
       "      <td>Wearable Sensor Data</td>\n",
       "    </tr>\n",
       "    <tr>\n",
       "      <th>69</th>\n",
       "      <td>Training Accuracy</td>\n",
       "      <td>NaN</td>\n",
       "      <td>NaN</td>\n",
       "      <td>NaN</td>\n",
       "      <td>NaN</td>\n",
       "      <td>NaN</td>\n",
       "      <td>0.89</td>\n",
       "      <td>NaN</td>\n",
       "      <td>SVM Classifier</td>\n",
       "      <td>Wearable Sensor Data</td>\n",
       "    </tr>\n",
       "    <tr>\n",
       "      <th>70</th>\n",
       "      <td>Test Accuracy</td>\n",
       "      <td>NaN</td>\n",
       "      <td>NaN</td>\n",
       "      <td>NaN</td>\n",
       "      <td>NaN</td>\n",
       "      <td>NaN</td>\n",
       "      <td>0.89</td>\n",
       "      <td>NaN</td>\n",
       "      <td>SVM Classifier</td>\n",
       "      <td>Wearable Sensor Data</td>\n",
       "    </tr>\n",
       "    <tr>\n",
       "      <th>71</th>\n",
       "      <td>Model_Time</td>\n",
       "      <td>NaN</td>\n",
       "      <td>NaN</td>\n",
       "      <td>NaN</td>\n",
       "      <td>NaN</td>\n",
       "      <td>NaN</td>\n",
       "      <td>1267.29</td>\n",
       "      <td>NaN</td>\n",
       "      <td>SVM Classifier</td>\n",
       "      <td>Wearable Sensor Data</td>\n",
       "    </tr>\n",
       "    <tr>\n",
       "      <th>72</th>\n",
       "      <td>Specificity</td>\n",
       "      <td>0.89</td>\n",
       "      <td>1.00</td>\n",
       "      <td>0.91</td>\n",
       "      <td>1.00</td>\n",
       "      <td>NaN</td>\n",
       "      <td>NaN</td>\n",
       "      <td>NaN</td>\n",
       "      <td>SVM Classifier</td>\n",
       "      <td>Wearable Sensor Data</td>\n",
       "    </tr>\n",
       "    <tr>\n",
       "      <th>73</th>\n",
       "      <td>Negative predictive value</td>\n",
       "      <td>0.97</td>\n",
       "      <td>0.94</td>\n",
       "      <td>1.00</td>\n",
       "      <td>0.97</td>\n",
       "      <td>NaN</td>\n",
       "      <td>NaN</td>\n",
       "      <td>NaN</td>\n",
       "      <td>SVM Classifier</td>\n",
       "      <td>Wearable Sensor Data</td>\n",
       "    </tr>\n",
       "    <tr>\n",
       "      <th>74</th>\n",
       "      <td>Positive Likelihood Ratio</td>\n",
       "      <td>8.57</td>\n",
       "      <td>NaN</td>\n",
       "      <td>10.82</td>\n",
       "      <td>NaN</td>\n",
       "      <td>NaN</td>\n",
       "      <td>NaN</td>\n",
       "      <td>NaN</td>\n",
       "      <td>SVM Classifier</td>\n",
       "      <td>Wearable Sensor Data</td>\n",
       "    </tr>\n",
       "    <tr>\n",
       "      <th>75</th>\n",
       "      <td>Negative likelihood ratio</td>\n",
       "      <td>10.68</td>\n",
       "      <td>1.00</td>\n",
       "      <td>1400.12</td>\n",
       "      <td>1.00</td>\n",
       "      <td>NaN</td>\n",
       "      <td>NaN</td>\n",
       "      <td>NaN</td>\n",
       "      <td>SVM Classifier</td>\n",
       "      <td>Wearable Sensor Data</td>\n",
       "    </tr>\n",
       "    <tr>\n",
       "      <th>76</th>\n",
       "      <td>Overall Misclassification Ratio</td>\n",
       "      <td>0.10</td>\n",
       "      <td>0.06</td>\n",
       "      <td>0.03</td>\n",
       "      <td>0.03</td>\n",
       "      <td>NaN</td>\n",
       "      <td>NaN</td>\n",
       "      <td>NaN</td>\n",
       "      <td>SVM Classifier</td>\n",
       "      <td>Wearable Sensor Data</td>\n",
       "    </tr>\n",
       "    <tr>\n",
       "      <th>77</th>\n",
       "      <td>ROC curve_Avergae</td>\n",
       "      <td>NaN</td>\n",
       "      <td>NaN</td>\n",
       "      <td>NaN</td>\n",
       "      <td>NaN</td>\n",
       "      <td>NaN</td>\n",
       "      <td>0.95</td>\n",
       "      <td>NaN</td>\n",
       "      <td>SVM Classifier</td>\n",
       "      <td>Wearable Sensor Data</td>\n",
       "    </tr>\n",
       "  </tbody>\n",
       "</table>\n",
       "</div>"
      ],
      "text/plain": [
       "                  Perfomance Matrix  Sit On Bed  Sit on Chair     Lying  \\\n",
       "0                          f1-score        0.85          0.44      1.00   \n",
       "1                         precision        0.78          0.72      0.99   \n",
       "2                            recall        0.95          0.32      1.00   \n",
       "3                           support     5010.00       1402.00  15426.00   \n",
       "4                 Training Accuracy         NaN           NaN       NaN   \n",
       "5                     Test Accuracy         NaN           NaN       NaN   \n",
       "6                        Model_Time         NaN           NaN       NaN   \n",
       "7                       Specificity        0.92          0.99      0.98   \n",
       "8         Negative predictive value        0.98          0.96      1.00   \n",
       "9         Positive Likelihood Ratio       12.23         38.64     58.76   \n",
       "10       Negative likelihood ratio        17.98          1.45   2166.23   \n",
       "11  Overall Misclassification Ratio        0.07          0.05      0.01   \n",
       "12                ROC curve_Avergae         NaN           NaN       NaN   \n",
       "13                         f1-score        0.99          0.98      1.00   \n",
       "14                        precision        0.98          0.97      1.00   \n",
       "15                           recall        0.99          0.99      1.00   \n",
       "16                          support     5010.00       1402.00  15426.00   \n",
       "17                Training Accuracy         NaN           NaN       NaN   \n",
       "18                    Test Accuracy         NaN           NaN       NaN   \n",
       "19                       Model_Time         NaN           NaN       NaN   \n",
       "20                      Specificity        0.99          1.00      1.00   \n",
       "21        Negative predictive value        1.00          1.00      1.00   \n",
       "22        Positive Likelihood Ratio      162.42        582.53    308.92   \n",
       "23       Negative likelihood ratio       115.80        127.24    904.48   \n",
       "24  Overall Misclassification Ratio        0.01          0.00      0.00   \n",
       "25                ROC curve_Avergae         NaN           NaN       NaN   \n",
       "26                         f1-score        0.85          0.44      0.99   \n",
       "27                        precision        0.76          0.84      0.99   \n",
       "28                           recall        0.96          0.29      0.99   \n",
       "29                          support     5010.00       1402.00  15426.00   \n",
       "30                  Traing Accuracy         NaN           NaN       NaN   \n",
       "31                    Test Accuracy         NaN           NaN       NaN   \n",
       "32                       Model_Time         NaN           NaN       NaN   \n",
       "33                      Specificity        0.92          1.00      0.99   \n",
       "34        Negative predictive value        0.99          0.96      0.97   \n",
       "35        Positive Likelihood Ratio       11.32         81.73     72.40   \n",
       "36       Negative likelihood ratio        20.66          1.41     77.63   \n",
       "37  Overall Misclassification Ratio        0.08          0.05      0.01   \n",
       "38                ROC curve_Avergae         NaN           NaN       NaN   \n",
       "39                         f1-score        0.90          0.87      0.97   \n",
       "40                        precision        0.91          0.88      0.96   \n",
       "41                           recall        0.88          0.87      0.98   \n",
       "42                          support     5010.00       1402.00  15426.00   \n",
       "43                Training Accuracy         NaN           NaN       NaN   \n",
       "44                    Test Accuracy         NaN           NaN       NaN   \n",
       "45                       Model_Time         NaN           NaN       NaN   \n",
       "46                      Specificity        0.98          0.99      0.92   \n",
       "47        Negative predictive value        0.97          0.99      0.95   \n",
       "48        Positive Likelihood Ratio       35.57        105.88     11.50   \n",
       "49       Negative likelihood ratio         8.47          7.44     38.89   \n",
       "50  Overall Misclassification Ratio        0.04          0.02      0.04   \n",
       "51                ROC curve_Avergae         NaN           NaN       NaN   \n",
       "52                         f1-score        0.85          0.53      0.99   \n",
       "53                        precision        0.77          0.87      0.98   \n",
       "54                           recall        0.95          0.38      1.00   \n",
       "55                          support     5010.00       1402.00  15426.00   \n",
       "56                Training Accuracy         NaN           NaN       NaN   \n",
       "57                    Test Accuracy         NaN           NaN       NaN   \n",
       "58                       Model_Time         NaN           NaN       NaN   \n",
       "59                      Specificity        0.92          1.00      0.97   \n",
       "60        Negative predictive value        0.98          0.96      1.00   \n",
       "61        Positive Likelihood Ratio       11.99        102.10     29.15   \n",
       "62       Negative likelihood ratio        18.23          1.61   7448.42   \n",
       "63  Overall Misclassification Ratio        0.07          0.04      0.01   \n",
       "64                ROC curve_Avergae         NaN           NaN       NaN   \n",
       "65                         f1-score        0.80          0.00      0.98   \n",
       "66                        precision        0.71          0.00      0.96   \n",
       "67                           recall        0.92          0.00      1.00   \n",
       "68                          support     5010.00       1402.00  15426.00   \n",
       "69                Training Accuracy         NaN           NaN       NaN   \n",
       "70                    Test Accuracy         NaN           NaN       NaN   \n",
       "71                       Model_Time         NaN           NaN       NaN   \n",
       "72                      Specificity        0.89          1.00      0.91   \n",
       "73        Negative predictive value        0.97          0.94      1.00   \n",
       "74        Positive Likelihood Ratio        8.57           NaN     10.82   \n",
       "75       Negative likelihood ratio        10.68          1.00   1400.12   \n",
       "76  Overall Misclassification Ratio        0.10          0.06      0.03   \n",
       "77                ROC curve_Avergae         NaN           NaN       NaN   \n",
       "\n",
       "    Ambulating  micro avg  macro avg  weighted avg                Model1  \\\n",
       "0         0.52       0.93       0.70          0.92  Logistics Regression   \n",
       "1         0.94       0.93       0.86          0.93  Logistics Regression   \n",
       "2         0.36       0.93       0.66          0.93  Logistics Regression   \n",
       "3       701.00   22539.00   22539.00      22539.00  Logistics Regression   \n",
       "4          NaN        NaN       0.92           NaN  Logistics Regression   \n",
       "5          NaN        NaN       0.93           NaN  Logistics Regression   \n",
       "6          NaN        NaN      82.63           NaN  Logistics Regression   \n",
       "7         1.00        NaN        NaN           NaN  Logistics Regression   \n",
       "8         0.98        NaN        NaN           NaN  Logistics Regression   \n",
       "9       521.29        NaN        NaN           NaN  Logistics Regression   \n",
       "10        1.56        NaN        NaN           NaN  Logistics Regression   \n",
       "11        0.02        NaN        NaN           NaN  Logistics Regression   \n",
       "12         NaN        NaN       0.96           NaN  Logistics Regression   \n",
       "13        0.88       0.99       0.96          0.99         Random Forest   \n",
       "14        0.95       0.99       0.98          0.99         Random Forest   \n",
       "15        0.82       0.99       0.95          0.99         Random Forest   \n",
       "16      701.00   22539.00   22539.00      22539.00         Random Forest   \n",
       "17         NaN        NaN       1.00           NaN         Random Forest   \n",
       "18         NaN        NaN       0.99           NaN         Random Forest   \n",
       "19         NaN        NaN       2.27           NaN         Random Forest   \n",
       "20        1.00        NaN        NaN           NaN         Random Forest   \n",
       "21        0.99        NaN        NaN           NaN         Random Forest   \n",
       "22      643.08        NaN        NaN           NaN         Random Forest   \n",
       "23        5.69        NaN        NaN           NaN         Random Forest   \n",
       "24        0.01        NaN        NaN           NaN         Random Forest   \n",
       "25         NaN        NaN       1.00           NaN         Random Forest   \n",
       "26        0.46       0.92       0.69          0.91        DNN Classifier   \n",
       "27        0.59       0.92       0.80          0.92        DNN Classifier   \n",
       "28        0.38       0.92       0.66          0.92        DNN Classifier   \n",
       "29      701.00   22539.00   22539.00      22539.00        DNN Classifier   \n",
       "30         NaN        NaN       0.92           NaN        DNN Classifier   \n",
       "31         NaN        NaN       0.92           NaN        DNN Classifier   \n",
       "32         NaN        NaN      86.50           NaN        DNN Classifier   \n",
       "33        0.99        NaN        NaN           NaN        DNN Classifier   \n",
       "34        0.98        NaN        NaN           NaN        DNN Classifier   \n",
       "35       44.81        NaN        NaN           NaN        DNN Classifier   \n",
       "36        1.61        NaN        NaN           NaN        DNN Classifier   \n",
       "37        0.03        NaN        NaN           NaN        DNN Classifier   \n",
       "38         NaN        NaN       0.95           NaN        DNN Classifier   \n",
       "39        0.79       0.94       0.88          0.94        KNN Classifier   \n",
       "40        0.85       0.94       0.90          0.94        KNN Classifier   \n",
       "41        0.75       0.94       0.87          0.94        KNN Classifier   \n",
       "42      701.00   22539.00   22539.00      22539.00        KNN Classifier   \n",
       "43         NaN        NaN       1.00           NaN        KNN Classifier   \n",
       "44         NaN        NaN       0.94           NaN        KNN Classifier   \n",
       "45         NaN        NaN       5.41           NaN        KNN Classifier   \n",
       "46        1.00        NaN        NaN           NaN        KNN Classifier   \n",
       "47        0.99        NaN        NaN           NaN        KNN Classifier   \n",
       "48      177.10        NaN        NaN           NaN        KNN Classifier   \n",
       "49        3.92        NaN        NaN           NaN        KNN Classifier   \n",
       "50        0.01        NaN        NaN           NaN        KNN Classifier   \n",
       "51         NaN        NaN       0.92           NaN        KNN Classifier   \n",
       "52        0.25       0.92       0.66          0.91    GBM Classification   \n",
       "53        0.90       0.92       0.88          0.93    GBM Classification   \n",
       "54        0.14       0.92       0.62          0.92    GBM Classification   \n",
       "55      701.00   22539.00   22539.00      22539.00    GBM Classification   \n",
       "56         NaN        NaN       0.92           NaN    GBM Classification   \n",
       "57         NaN        NaN       0.92           NaN    GBM Classification   \n",
       "58         NaN        NaN       2.51           NaN    GBM Classification   \n",
       "59        1.00        NaN        NaN           NaN    GBM Classification   \n",
       "60        0.97        NaN        NaN           NaN    GBM Classification   \n",
       "61      286.04        NaN        NaN           NaN    GBM Classification   \n",
       "62        1.17        NaN        NaN           NaN    GBM Classification   \n",
       "63        0.03        NaN        NaN           NaN    GBM Classification   \n",
       "64         NaN        NaN       0.98           NaN    GBM Classification   \n",
       "65        0.00       0.89       0.44          0.85        SVM Classifier   \n",
       "66        0.00       0.89       0.42          0.81        SVM Classifier   \n",
       "67        0.00       0.89       0.48          0.89        SVM Classifier   \n",
       "68      701.00   22539.00   22539.00      22539.00        SVM Classifier   \n",
       "69         NaN        NaN       0.89           NaN        SVM Classifier   \n",
       "70         NaN        NaN       0.89           NaN        SVM Classifier   \n",
       "71         NaN        NaN    1267.29           NaN        SVM Classifier   \n",
       "72        1.00        NaN        NaN           NaN        SVM Classifier   \n",
       "73        0.97        NaN        NaN           NaN        SVM Classifier   \n",
       "74         NaN        NaN        NaN           NaN        SVM Classifier   \n",
       "75        1.00        NaN        NaN           NaN        SVM Classifier   \n",
       "76        0.03        NaN        NaN           NaN        SVM Classifier   \n",
       "77         NaN        NaN       0.95           NaN        SVM Classifier   \n",
       "\n",
       "               Data Type  \n",
       "0   Wearable Sensor Data  \n",
       "1   Wearable Sensor Data  \n",
       "2   Wearable Sensor Data  \n",
       "3   Wearable Sensor Data  \n",
       "4   Wearable Sensor Data  \n",
       "5   Wearable Sensor Data  \n",
       "6   Wearable Sensor Data  \n",
       "7   Wearable Sensor Data  \n",
       "8   Wearable Sensor Data  \n",
       "9   Wearable Sensor Data  \n",
       "10  Wearable Sensor Data  \n",
       "11  Wearable Sensor Data  \n",
       "12  Wearable Sensor Data  \n",
       "13  Wearable Sensor Data  \n",
       "14  Wearable Sensor Data  \n",
       "15  Wearable Sensor Data  \n",
       "16  Wearable Sensor Data  \n",
       "17  Wearable Sensor Data  \n",
       "18  Wearable Sensor Data  \n",
       "19  Wearable Sensor Data  \n",
       "20  Wearable Sensor Data  \n",
       "21  Wearable Sensor Data  \n",
       "22  Wearable Sensor Data  \n",
       "23  Wearable Sensor Data  \n",
       "24  Wearable Sensor Data  \n",
       "25  Wearable Sensor Data  \n",
       "26  Wearable Sensor Data  \n",
       "27  Wearable Sensor Data  \n",
       "28  Wearable Sensor Data  \n",
       "29  Wearable Sensor Data  \n",
       "30  Wearable Sensor Data  \n",
       "31  Wearable Sensor Data  \n",
       "32  Wearable Sensor Data  \n",
       "33  Wearable Sensor Data  \n",
       "34  Wearable Sensor Data  \n",
       "35  Wearable Sensor Data  \n",
       "36  Wearable Sensor Data  \n",
       "37  Wearable Sensor Data  \n",
       "38  Wearable Sensor Data  \n",
       "39  Wearable Sensor Data  \n",
       "40  Wearable Sensor Data  \n",
       "41  Wearable Sensor Data  \n",
       "42  Wearable Sensor Data  \n",
       "43  Wearable Sensor Data  \n",
       "44  Wearable Sensor Data  \n",
       "45  Wearable Sensor Data  \n",
       "46  Wearable Sensor Data  \n",
       "47  Wearable Sensor Data  \n",
       "48  Wearable Sensor Data  \n",
       "49  Wearable Sensor Data  \n",
       "50  Wearable Sensor Data  \n",
       "51  Wearable Sensor Data  \n",
       "52  Wearable Sensor Data  \n",
       "53  Wearable Sensor Data  \n",
       "54  Wearable Sensor Data  \n",
       "55  Wearable Sensor Data  \n",
       "56  Wearable Sensor Data  \n",
       "57  Wearable Sensor Data  \n",
       "58  Wearable Sensor Data  \n",
       "59  Wearable Sensor Data  \n",
       "60  Wearable Sensor Data  \n",
       "61  Wearable Sensor Data  \n",
       "62  Wearable Sensor Data  \n",
       "63  Wearable Sensor Data  \n",
       "64  Wearable Sensor Data  \n",
       "65  Wearable Sensor Data  \n",
       "66  Wearable Sensor Data  \n",
       "67  Wearable Sensor Data  \n",
       "68  Wearable Sensor Data  \n",
       "69  Wearable Sensor Data  \n",
       "70  Wearable Sensor Data  \n",
       "71  Wearable Sensor Data  \n",
       "72  Wearable Sensor Data  \n",
       "73  Wearable Sensor Data  \n",
       "74  Wearable Sensor Data  \n",
       "75  Wearable Sensor Data  \n",
       "76  Wearable Sensor Data  \n",
       "77  Wearable Sensor Data  "
      ]
     },
     "execution_count": 66,
     "metadata": {},
     "output_type": "execute_result"
    }
   ],
   "source": [
    "df_data"
   ]
  },
  {
   "cell_type": "code",
   "execution_count": 67,
   "metadata": {},
   "outputs": [
    {
     "name": "stdout",
     "output_type": "stream",
     "text": [
      "             Perfomance Matrix  Sit On Bed  Sit on Chair    Lying  Ambulating  \\\n",
      "75  Negative likelihood ratio        10.68          1.00  1400.12        1.00   \n",
      "62  Negative likelihood ratio        18.23          1.61  7448.42        1.17   \n",
      "10  Negative likelihood ratio        17.98          1.45  2166.23        1.56   \n",
      "36  Negative likelihood ratio        20.66          1.41    77.63        1.61   \n",
      "49  Negative likelihood ratio         8.47          7.44    38.89        3.92   \n",
      "23  Negative likelihood ratio       115.80        127.24   904.48        5.69   \n",
      "\n",
      "    micro avg  macro avg  weighted avg                Model1  \\\n",
      "75        NaN        NaN           NaN        SVM Classifier   \n",
      "62        NaN        NaN           NaN    GBM Classification   \n",
      "10        NaN        NaN           NaN  Logistics Regression   \n",
      "36        NaN        NaN           NaN        DNN Classifier   \n",
      "49        NaN        NaN           NaN        KNN Classifier   \n",
      "23        NaN        NaN           NaN         Random Forest   \n",
      "\n",
      "               Data Type  \n",
      "75  Wearable Sensor Data  \n",
      "62  Wearable Sensor Data  \n",
      "10  Wearable Sensor Data  \n",
      "36  Wearable Sensor Data  \n",
      "49  Wearable Sensor Data  \n",
      "23  Wearable Sensor Data  \n"
     ]
    }
   ],
   "source": [
    "\n",
    "## plot Graph for record count for each Activity Label \n",
    "Temp = df_data[df_data['Perfomance Matrix'] == 'Negative likelihood ratio ']\n",
    "Temp=Temp.sort_values(by=['Ambulating'])\n",
    "print(Temp)"
   ]
  },
  {
   "cell_type": "code",
   "execution_count": 68,
   "metadata": {},
   "outputs": [],
   "source": [
    "Temp=Temp[['Perfomance Matrix', 'Sit On Bed', 'Sit on Chair', 'Lying',\n",
    "       'Ambulating', 'Model1']]\n"
   ]
  },
  {
   "cell_type": "code",
   "execution_count": 69,
   "metadata": {},
   "outputs": [
    {
     "data": {
      "text/html": [
       "<div>\n",
       "<style scoped>\n",
       "    .dataframe tbody tr th:only-of-type {\n",
       "        vertical-align: middle;\n",
       "    }\n",
       "\n",
       "    .dataframe tbody tr th {\n",
       "        vertical-align: top;\n",
       "    }\n",
       "\n",
       "    .dataframe thead th {\n",
       "        text-align: right;\n",
       "    }\n",
       "</style>\n",
       "<table border=\"1\" class=\"dataframe\">\n",
       "  <thead>\n",
       "    <tr style=\"text-align: right;\">\n",
       "      <th></th>\n",
       "      <th>Perfomance Matrix</th>\n",
       "      <th>Sit On Bed</th>\n",
       "      <th>Sit on Chair</th>\n",
       "      <th>Lying</th>\n",
       "      <th>Ambulating</th>\n",
       "      <th>Model1</th>\n",
       "    </tr>\n",
       "  </thead>\n",
       "  <tbody>\n",
       "    <tr>\n",
       "      <th>75</th>\n",
       "      <td>Negative likelihood ratio</td>\n",
       "      <td>10.68</td>\n",
       "      <td>1.00</td>\n",
       "      <td>1400.12</td>\n",
       "      <td>1.00</td>\n",
       "      <td>SVM Classifier</td>\n",
       "    </tr>\n",
       "    <tr>\n",
       "      <th>62</th>\n",
       "      <td>Negative likelihood ratio</td>\n",
       "      <td>18.23</td>\n",
       "      <td>1.61</td>\n",
       "      <td>7448.42</td>\n",
       "      <td>1.17</td>\n",
       "      <td>GBM Classification</td>\n",
       "    </tr>\n",
       "    <tr>\n",
       "      <th>10</th>\n",
       "      <td>Negative likelihood ratio</td>\n",
       "      <td>17.98</td>\n",
       "      <td>1.45</td>\n",
       "      <td>2166.23</td>\n",
       "      <td>1.56</td>\n",
       "      <td>Logistics Regression</td>\n",
       "    </tr>\n",
       "    <tr>\n",
       "      <th>36</th>\n",
       "      <td>Negative likelihood ratio</td>\n",
       "      <td>20.66</td>\n",
       "      <td>1.41</td>\n",
       "      <td>77.63</td>\n",
       "      <td>1.61</td>\n",
       "      <td>DNN Classifier</td>\n",
       "    </tr>\n",
       "    <tr>\n",
       "      <th>49</th>\n",
       "      <td>Negative likelihood ratio</td>\n",
       "      <td>8.47</td>\n",
       "      <td>7.44</td>\n",
       "      <td>38.89</td>\n",
       "      <td>3.92</td>\n",
       "      <td>KNN Classifier</td>\n",
       "    </tr>\n",
       "    <tr>\n",
       "      <th>23</th>\n",
       "      <td>Negative likelihood ratio</td>\n",
       "      <td>115.80</td>\n",
       "      <td>127.24</td>\n",
       "      <td>904.48</td>\n",
       "      <td>5.69</td>\n",
       "      <td>Random Forest</td>\n",
       "    </tr>\n",
       "  </tbody>\n",
       "</table>\n",
       "</div>"
      ],
      "text/plain": [
       "             Perfomance Matrix  Sit On Bed  Sit on Chair    Lying  Ambulating  \\\n",
       "75  Negative likelihood ratio        10.68          1.00  1400.12        1.00   \n",
       "62  Negative likelihood ratio        18.23          1.61  7448.42        1.17   \n",
       "10  Negative likelihood ratio        17.98          1.45  2166.23        1.56   \n",
       "36  Negative likelihood ratio        20.66          1.41    77.63        1.61   \n",
       "49  Negative likelihood ratio         8.47          7.44    38.89        3.92   \n",
       "23  Negative likelihood ratio       115.80        127.24   904.48        5.69   \n",
       "\n",
       "                  Model1  \n",
       "75        SVM Classifier  \n",
       "62    GBM Classification  \n",
       "10  Logistics Regression  \n",
       "36        DNN Classifier  \n",
       "49        KNN Classifier  \n",
       "23         Random Forest  "
      ]
     },
     "execution_count": 69,
     "metadata": {},
     "output_type": "execute_result"
    }
   ],
   "source": [
    "Temp"
   ]
  },
  {
   "cell_type": "code",
   "execution_count": 70,
   "metadata": {},
   "outputs": [
    {
     "data": {
      "text/plain": [
       "[Text(0, 0.5, 'Negative likelihood ratio'), Text(0.5, 0, 'Model-Name')]"
      ]
     },
     "execution_count": 70,
     "metadata": {},
     "output_type": "execute_result"
    },
    {
     "data": {
      "text/plain": [
       "Text(0, 10, '10.68')"
      ]
     },
     "execution_count": 70,
     "metadata": {},
     "output_type": "execute_result"
    },
    {
     "data": {
      "text/plain": [
       "Text(0, 10, '18.23')"
      ]
     },
     "execution_count": 70,
     "metadata": {},
     "output_type": "execute_result"
    },
    {
     "data": {
      "text/plain": [
       "Text(0, 10, '17.98')"
      ]
     },
     "execution_count": 70,
     "metadata": {},
     "output_type": "execute_result"
    },
    {
     "data": {
      "text/plain": [
       "Text(0, 10, '20.66')"
      ]
     },
     "execution_count": 70,
     "metadata": {},
     "output_type": "execute_result"
    },
    {
     "data": {
      "text/plain": [
       "Text(0, 10, '8.47')"
      ]
     },
     "execution_count": 70,
     "metadata": {},
     "output_type": "execute_result"
    },
    {
     "data": {
      "text/plain": [
       "Text(0, 10, '115.8')"
      ]
     },
     "execution_count": 70,
     "metadata": {},
     "output_type": "execute_result"
    },
    {
     "data": {
      "text/plain": [
       "Text(0, 10, '1.0')"
      ]
     },
     "execution_count": 70,
     "metadata": {},
     "output_type": "execute_result"
    },
    {
     "data": {
      "text/plain": [
       "Text(0, 10, '1.61')"
      ]
     },
     "execution_count": 70,
     "metadata": {},
     "output_type": "execute_result"
    },
    {
     "data": {
      "text/plain": [
       "Text(0, 10, '1.45')"
      ]
     },
     "execution_count": 70,
     "metadata": {},
     "output_type": "execute_result"
    },
    {
     "data": {
      "text/plain": [
       "Text(0, 10, '1.41')"
      ]
     },
     "execution_count": 70,
     "metadata": {},
     "output_type": "execute_result"
    },
    {
     "data": {
      "text/plain": [
       "Text(0, 10, '7.44')"
      ]
     },
     "execution_count": 70,
     "metadata": {},
     "output_type": "execute_result"
    },
    {
     "data": {
      "text/plain": [
       "Text(0, 10, '127.24')"
      ]
     },
     "execution_count": 70,
     "metadata": {},
     "output_type": "execute_result"
    },
    {
     "data": {
      "text/plain": [
       "Text(0, 10, '1400.12')"
      ]
     },
     "execution_count": 70,
     "metadata": {},
     "output_type": "execute_result"
    },
    {
     "data": {
      "text/plain": [
       "Text(0, 10, '7448.42')"
      ]
     },
     "execution_count": 70,
     "metadata": {},
     "output_type": "execute_result"
    },
    {
     "data": {
      "text/plain": [
       "Text(0, 10, '2166.23')"
      ]
     },
     "execution_count": 70,
     "metadata": {},
     "output_type": "execute_result"
    },
    {
     "data": {
      "text/plain": [
       "Text(0, 10, '77.63')"
      ]
     },
     "execution_count": 70,
     "metadata": {},
     "output_type": "execute_result"
    },
    {
     "data": {
      "text/plain": [
       "Text(0, 10, '38.89')"
      ]
     },
     "execution_count": 70,
     "metadata": {},
     "output_type": "execute_result"
    },
    {
     "data": {
      "text/plain": [
       "Text(0, 10, '904.48')"
      ]
     },
     "execution_count": 70,
     "metadata": {},
     "output_type": "execute_result"
    },
    {
     "data": {
      "text/plain": [
       "Text(0, 10, '1.0')"
      ]
     },
     "execution_count": 70,
     "metadata": {},
     "output_type": "execute_result"
    },
    {
     "data": {
      "text/plain": [
       "Text(0, 10, '1.17')"
      ]
     },
     "execution_count": 70,
     "metadata": {},
     "output_type": "execute_result"
    },
    {
     "data": {
      "text/plain": [
       "Text(0, 10, '1.56')"
      ]
     },
     "execution_count": 70,
     "metadata": {},
     "output_type": "execute_result"
    },
    {
     "data": {
      "text/plain": [
       "Text(0, 10, '1.61')"
      ]
     },
     "execution_count": 70,
     "metadata": {},
     "output_type": "execute_result"
    },
    {
     "data": {
      "text/plain": [
       "Text(0, 10, '3.92')"
      ]
     },
     "execution_count": 70,
     "metadata": {},
     "output_type": "execute_result"
    },
    {
     "data": {
      "text/plain": [
       "Text(0, 10, '5.69')"
      ]
     },
     "execution_count": 70,
     "metadata": {},
     "output_type": "execute_result"
    },
    {
     "data": {
      "text/plain": [
       "(array([0, 1, 2, 3, 4, 5]), <a list of 6 Text xticklabel objects>)"
      ]
     },
     "execution_count": 70,
     "metadata": {},
     "output_type": "execute_result"
    },
    {
     "data": {
      "text/plain": [
       "<Figure size 1800x1800 with 0 Axes>"
      ]
     },
     "metadata": {},
     "output_type": "display_data"
    },
    {
     "data": {
      "image/png": "[encoded data removed]",
      "text/plain": [
       "<Figure size 1440x1440 with 1 Axes>"
      ]
     },
     "metadata": {
      "needs_background": "light"
     },
     "output_type": "display_data"
    }
   ],
   "source": [
    "## plot Graph for record count for each Activity Label \n",
    "\n",
    "    \n",
    "## plot Graph for record count for each Activity Label \n",
    "\n",
    "    \n",
    "ab = Temp\n",
    "fig=plt.figure(figsize=(25,25))\n",
    "#ax=plt.legend(bbox_to_anchor=(0.1, 1.0, 1., .102),loc=10, ncol=4,  #left, bottom, width, height\n",
    "#               )                 \n",
    "#ax.get_title().set_fontsize('20')\n",
    "ax = ab.plot(x='Model1', y=['Sit On Bed', 'Sit on Chair', 'Lying','Ambulating'], kind=\"bar\",figsize=(20,20) )\n",
    "ax.set(xlabel = 'Model-Name', ylabel = 'Negative likelihood ratio')\n",
    "ax.grid(True)\n",
    "for p in ax.patches:\n",
    "     ax.annotate(f\"{p.get_height() }\", (p.get_x() + p.get_width() / 2., p.get_height()),\n",
    "         ha='center', va='center', fontsize=11, color='blue', rotation=0, xytext=(0, 10),\n",
    "         textcoords='offset points') \n",
    "plt.xticks(rotation=0)\n",
    "\n",
    "plt.savefig(\"Result_graph/Negative likelihood ratio comparison Data.PNG\")\n",
    "\n",
    "\n",
    "\n",
    "\n"
   ]
  },
  {
   "cell_type": "code",
   "execution_count": 71,
   "metadata": {},
   "outputs": [],
   "source": [
    "\n",
    "## plot Graph for record count for each Activity Label \n",
    "Temp = df_data[df_data['Perfomance Matrix'] == 'Overall Misclassification Ratio']\n",
    "Temp=Temp.sort_values(by=['Ambulating'])\n"
   ]
  },
  {
   "cell_type": "code",
   "execution_count": 72,
   "metadata": {},
   "outputs": [],
   "source": [
    "Temp=Temp[['Perfomance Matrix', 'Sit On Bed', 'Sit on Chair', 'Lying',\n",
    "       'Ambulating', 'Model1']]"
   ]
  },
  {
   "cell_type": "code",
   "execution_count": 73,
   "metadata": {},
   "outputs": [
    {
     "data": {
      "text/plain": [
       "[Text(0, 0.5, 'Overall Misclassification Ratio'), Text(0.5, 0, 'Model-Name')]"
      ]
     },
     "execution_count": 73,
     "metadata": {},
     "output_type": "execute_result"
    },
    {
     "data": {
      "text/plain": [
       "Text(0, 10, '0.01')"
      ]
     },
     "execution_count": 73,
     "metadata": {},
     "output_type": "execute_result"
    },
    {
     "data": {
      "text/plain": [
       "Text(0, 10, '0.04')"
      ]
     },
     "execution_count": 73,
     "metadata": {},
     "output_type": "execute_result"
    },
    {
     "data": {
      "text/plain": [
       "Text(0, 10, '0.07')"
      ]
     },
     "execution_count": 73,
     "metadata": {},
     "output_type": "execute_result"
    },
    {
     "data": {
      "text/plain": [
       "Text(0, 10, '0.08')"
      ]
     },
     "execution_count": 73,
     "metadata": {},
     "output_type": "execute_result"
    },
    {
     "data": {
      "text/plain": [
       "Text(0, 10, '0.07')"
      ]
     },
     "execution_count": 73,
     "metadata": {},
     "output_type": "execute_result"
    },
    {
     "data": {
      "text/plain": [
       "Text(0, 10, '0.1')"
      ]
     },
     "execution_count": 73,
     "metadata": {},
     "output_type": "execute_result"
    },
    {
     "data": {
      "text/plain": [
       "Text(0, 10, '0.0')"
      ]
     },
     "execution_count": 73,
     "metadata": {},
     "output_type": "execute_result"
    },
    {
     "data": {
      "text/plain": [
       "Text(0, 10, '0.02')"
      ]
     },
     "execution_count": 73,
     "metadata": {},
     "output_type": "execute_result"
    },
    {
     "data": {
      "text/plain": [
       "Text(0, 10, '0.05')"
      ]
     },
     "execution_count": 73,
     "metadata": {},
     "output_type": "execute_result"
    },
    {
     "data": {
      "text/plain": [
       "Text(0, 10, '0.05')"
      ]
     },
     "execution_count": 73,
     "metadata": {},
     "output_type": "execute_result"
    },
    {
     "data": {
      "text/plain": [
       "Text(0, 10, '0.04')"
      ]
     },
     "execution_count": 73,
     "metadata": {},
     "output_type": "execute_result"
    },
    {
     "data": {
      "text/plain": [
       "Text(0, 10, '0.06')"
      ]
     },
     "execution_count": 73,
     "metadata": {},
     "output_type": "execute_result"
    },
    {
     "data": {
      "text/plain": [
       "Text(0, 10, '0.0')"
      ]
     },
     "execution_count": 73,
     "metadata": {},
     "output_type": "execute_result"
    },
    {
     "data": {
      "text/plain": [
       "Text(0, 10, '0.04')"
      ]
     },
     "execution_count": 73,
     "metadata": {},
     "output_type": "execute_result"
    },
    {
     "data": {
      "text/plain": [
       "Text(0, 10, '0.01')"
      ]
     },
     "execution_count": 73,
     "metadata": {},
     "output_type": "execute_result"
    },
    {
     "data": {
      "text/plain": [
       "Text(0, 10, '0.01')"
      ]
     },
     "execution_count": 73,
     "metadata": {},
     "output_type": "execute_result"
    },
    {
     "data": {
      "text/plain": [
       "Text(0, 10, '0.01')"
      ]
     },
     "execution_count": 73,
     "metadata": {},
     "output_type": "execute_result"
    },
    {
     "data": {
      "text/plain": [
       "Text(0, 10, '0.03')"
      ]
     },
     "execution_count": 73,
     "metadata": {},
     "output_type": "execute_result"
    },
    {
     "data": {
      "text/plain": [
       "Text(0, 10, '0.01')"
      ]
     },
     "execution_count": 73,
     "metadata": {},
     "output_type": "execute_result"
    },
    {
     "data": {
      "text/plain": [
       "Text(0, 10, '0.01')"
      ]
     },
     "execution_count": 73,
     "metadata": {},
     "output_type": "execute_result"
    },
    {
     "data": {
      "text/plain": [
       "Text(0, 10, '0.02')"
      ]
     },
     "execution_count": 73,
     "metadata": {},
     "output_type": "execute_result"
    },
    {
     "data": {
      "text/plain": [
       "Text(0, 10, '0.03')"
      ]
     },
     "execution_count": 73,
     "metadata": {},
     "output_type": "execute_result"
    },
    {
     "data": {
      "text/plain": [
       "Text(0, 10, '0.03')"
      ]
     },
     "execution_count": 73,
     "metadata": {},
     "output_type": "execute_result"
    },
    {
     "data": {
      "text/plain": [
       "Text(0, 10, '0.03')"
      ]
     },
     "execution_count": 73,
     "metadata": {},
     "output_type": "execute_result"
    },
    {
     "data": {
      "text/plain": [
       "(array([0, 1, 2, 3, 4, 5]), <a list of 6 Text xticklabel objects>)"
      ]
     },
     "execution_count": 73,
     "metadata": {},
     "output_type": "execute_result"
    },
    {
     "data": {
      "text/plain": [
       "<Figure size 1800x1800 with 0 Axes>"
      ]
     },
     "metadata": {},
     "output_type": "display_data"
    },
    {
     "data": {
      "image/png": "[encoded data removed]",
      "text/plain": [
       "<Figure size 1440x1440 with 1 Axes>"
      ]
     },
     "metadata": {
      "needs_background": "light"
     },
     "output_type": "display_data"
    }
   ],
   "source": [
    "## plot Graph for record count for each Activity Label \n",
    "\n",
    "    \n",
    "## plot Graph for record count for each Activity Label \n",
    "\n",
    "    \n",
    "ab = Temp\n",
    "fig=plt.figure(figsize=(25,25))\n",
    "#ax=plt.legend(bbox_to_anchor=(0.1, 1.0, 1., .102),loc=10, ncol=4,  #left, bottom, width, height\n",
    "#               )                 \n",
    "#ax.get_title().set_fontsize('20')\n",
    "ax = ab.plot(x='Model1', y=['Sit On Bed', 'Sit on Chair', 'Lying','Ambulating'], kind=\"bar\" ,figsize=(20,20))\n",
    "ax.set(xlabel = 'Model-Name', ylabel = 'Overall Misclassification Ratio')\n",
    "ax.grid(True)\n",
    "for p in ax.patches:\n",
    "     ax.annotate(f\"{p.get_height() }\", (p.get_x() + p.get_width() / 2., p.get_height()),\n",
    "         ha='center', va='center', fontsize=11, color='blue', rotation=0, xytext=(0, 10),\n",
    "         textcoords='offset points') \n",
    "plt.xticks(rotation=0)\n",
    "\n",
    "plt.savefig(\"Result_graph/Overall Misclassification Ratio comparison Data.PNG\")\n",
    "\n",
    "\n",
    "\n",
    "\n"
   ]
  },
  {
   "cell_type": "code",
   "execution_count": 74,
   "metadata": {},
   "outputs": [],
   "source": [
    "## plot Graph for record count for each Activity Label \n",
    "Temp = df_data[df_data['Perfomance Matrix'] == 'ROC curve_Avergae']\n",
    "Temp=Temp.sort_values(by=['macro avg'])"
   ]
  },
  {
   "cell_type": "code",
   "execution_count": 75,
   "metadata": {},
   "outputs": [],
   "source": [
    "Temp=Temp[['macro avg','Model1','Perfomance Matrix']]\n",
    "\n",
    "Temp['macro avg']=Temp['macro avg'].round(decimals=2)"
   ]
  },
  {
   "cell_type": "code",
   "execution_count": 76,
   "metadata": {},
   "outputs": [
    {
     "name": "stderr",
     "output_type": "stream",
     "text": [
      "No handles with labels found to put in legend.\n"
     ]
    },
    {
     "data": {
      "text/plain": [
       "[Text(0, 0.5, 'Roc Area'), Text(0.5, 0, 'Model-Name')]"
      ]
     },
     "execution_count": 76,
     "metadata": {},
     "output_type": "execute_result"
    },
    {
     "data": {
      "text/plain": [
       "Text(0, 10, '0.92')"
      ]
     },
     "execution_count": 76,
     "metadata": {},
     "output_type": "execute_result"
    },
    {
     "data": {
      "text/plain": [
       "Text(0, 10, '0.95')"
      ]
     },
     "execution_count": 76,
     "metadata": {},
     "output_type": "execute_result"
    },
    {
     "data": {
      "text/plain": [
       "Text(0, 10, '0.95')"
      ]
     },
     "execution_count": 76,
     "metadata": {},
     "output_type": "execute_result"
    },
    {
     "data": {
      "text/plain": [
       "Text(0, 10, '0.96')"
      ]
     },
     "execution_count": 76,
     "metadata": {},
     "output_type": "execute_result"
    },
    {
     "data": {
      "text/plain": [
       "Text(0, 10, '0.98')"
      ]
     },
     "execution_count": 76,
     "metadata": {},
     "output_type": "execute_result"
    },
    {
     "data": {
      "text/plain": [
       "Text(0, 10, '1.0')"
      ]
     },
     "execution_count": 76,
     "metadata": {},
     "output_type": "execute_result"
    },
    {
     "data": {
      "image/png": "[encoded data removed]",
      "text/plain": [
       "<Figure size 864x720 with 1 Axes>"
      ]
     },
     "metadata": {
      "needs_background": "light"
     },
     "output_type": "display_data"
    }
   ],
   "source": [
    "## plot Graph for record count for each Activity Label \n",
    "\n",
    "    \n",
    "ab = Temp\n",
    "fig=plt.figure(figsize=(12,10))\n",
    "ax=plt.legend(bbox_to_anchor=(0.1, 1.0, 1., .102),loc=10, ncol=4,  #left, bottom, width, height\n",
    "               )                 \n",
    "ax.get_title().set_fontsize('20')\n",
    "ax = sns.barplot(x='Model1', y='macro avg', data=ab )\n",
    "ax.set(xlabel = 'Model-Name', ylabel = 'Roc Area')\n",
    "ax.grid(True)\n",
    "for p in ax.patches:\n",
    "     ax.annotate(f\"{p.get_height() }\", (p.get_x() + p.get_width() / 2., p.get_height()),\n",
    "         ha='center', va='center', fontsize=11, color='blue', rotation=0, xytext=(0, 10),\n",
    "         textcoords='offset points') \n",
    "\n",
    "#fig.savefig(\"ROC area comparison Data.PNG\")\n",
    "fig.savefig(\"Result_graph/ROC area comparison Data.PNG\")\n",
    "\n"
   ]
  },
  {
   "cell_type": "code",
   "execution_count": null,
   "metadata": {},
   "outputs": [],
   "source": []
  }
 ],
 "metadata": {
  "kernelspec": {
   "display_name": "Python 3",
   "language": "python",
   "name": "python3"
  },
  "language_info": {
   "codemirror_mode": {
    "name": "ipython",
    "version": 3
   },
   "file_extension": ".py",
   "mimetype": "text/x-python",
   "name": "python",
   "nbconvert_exporter": "python",
   "pygments_lexer": "ipython3",
   "version": "3.7.3"
  }
 },
 "nbformat": 4,
 "nbformat_minor": 4
}
